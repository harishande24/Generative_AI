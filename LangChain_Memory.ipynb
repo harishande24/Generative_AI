{
  "nbformat": 4,
  "nbformat_minor": 0,
  "metadata": {
    "colab": {
      "provenance": []
    },
    "kernelspec": {
      "name": "python3",
      "display_name": "Python 3"
    },
    "language_info": {
      "name": "python"
    }
  },
  "cells": [
    {
      "cell_type": "code",
      "execution_count": 1,
      "metadata": {
        "colab": {
          "base_uri": "https://localhost:8080/"
        },
        "id": "IdAVRkQ8KTbi",
        "outputId": "e9cdcaac-e3f1-4fdf-d67c-0b53201e5bf5"
      },
      "outputs": [
        {
          "output_type": "stream",
          "name": "stdout",
          "text": [
            "Collecting langchain\n",
            "  Downloading langchain-0.2.12-py3-none-any.whl.metadata (7.1 kB)\n",
            "Requirement already satisfied: PyYAML>=5.3 in /usr/local/lib/python3.10/dist-packages (from langchain) (6.0.1)\n",
            "Requirement already satisfied: SQLAlchemy<3,>=1.4 in /usr/local/lib/python3.10/dist-packages (from langchain) (2.0.31)\n",
            "Requirement already satisfied: aiohttp<4.0.0,>=3.8.3 in /usr/local/lib/python3.10/dist-packages (from langchain) (3.9.5)\n",
            "Requirement already satisfied: async-timeout<5.0.0,>=4.0.0 in /usr/local/lib/python3.10/dist-packages (from langchain) (4.0.3)\n",
            "Collecting langchain-core<0.3.0,>=0.2.27 (from langchain)\n",
            "  Downloading langchain_core-0.2.27-py3-none-any.whl.metadata (6.2 kB)\n",
            "Collecting langchain-text-splitters<0.3.0,>=0.2.0 (from langchain)\n",
            "  Downloading langchain_text_splitters-0.2.2-py3-none-any.whl.metadata (2.1 kB)\n",
            "Collecting langsmith<0.2.0,>=0.1.17 (from langchain)\n",
            "  Downloading langsmith-0.1.96-py3-none-any.whl.metadata (13 kB)\n",
            "Requirement already satisfied: numpy<2,>=1 in /usr/local/lib/python3.10/dist-packages (from langchain) (1.26.4)\n",
            "Requirement already satisfied: pydantic<3,>=1 in /usr/local/lib/python3.10/dist-packages (from langchain) (2.8.2)\n",
            "Requirement already satisfied: requests<3,>=2 in /usr/local/lib/python3.10/dist-packages (from langchain) (2.31.0)\n",
            "Collecting tenacity!=8.4.0,<9.0.0,>=8.1.0 (from langchain)\n",
            "  Downloading tenacity-8.5.0-py3-none-any.whl.metadata (1.2 kB)\n",
            "Requirement already satisfied: aiosignal>=1.1.2 in /usr/local/lib/python3.10/dist-packages (from aiohttp<4.0.0,>=3.8.3->langchain) (1.3.1)\n",
            "Requirement already satisfied: attrs>=17.3.0 in /usr/local/lib/python3.10/dist-packages (from aiohttp<4.0.0,>=3.8.3->langchain) (23.2.0)\n",
            "Requirement already satisfied: frozenlist>=1.1.1 in /usr/local/lib/python3.10/dist-packages (from aiohttp<4.0.0,>=3.8.3->langchain) (1.4.1)\n",
            "Requirement already satisfied: multidict<7.0,>=4.5 in /usr/local/lib/python3.10/dist-packages (from aiohttp<4.0.0,>=3.8.3->langchain) (6.0.5)\n",
            "Requirement already satisfied: yarl<2.0,>=1.0 in /usr/local/lib/python3.10/dist-packages (from aiohttp<4.0.0,>=3.8.3->langchain) (1.9.4)\n",
            "Collecting jsonpatch<2.0,>=1.33 (from langchain-core<0.3.0,>=0.2.27->langchain)\n",
            "  Downloading jsonpatch-1.33-py2.py3-none-any.whl.metadata (3.0 kB)\n",
            "Requirement already satisfied: packaging<25,>=23.2 in /usr/local/lib/python3.10/dist-packages (from langchain-core<0.3.0,>=0.2.27->langchain) (24.1)\n",
            "Requirement already satisfied: typing-extensions>=4.7 in /usr/local/lib/python3.10/dist-packages (from langchain-core<0.3.0,>=0.2.27->langchain) (4.12.2)\n",
            "Collecting orjson<4.0.0,>=3.9.14 (from langsmith<0.2.0,>=0.1.17->langchain)\n",
            "  Downloading orjson-3.10.6-cp310-cp310-manylinux_2_17_x86_64.manylinux2014_x86_64.whl.metadata (50 kB)\n",
            "\u001b[2K     \u001b[90m━━━━━━━━━━━━━━━━━━━━━━━━━━━━━━━━━━━━━━━━\u001b[0m \u001b[32m50.4/50.4 kB\u001b[0m \u001b[31m616.8 kB/s\u001b[0m eta \u001b[36m0:00:00\u001b[0m\n",
            "\u001b[?25hRequirement already satisfied: annotated-types>=0.4.0 in /usr/local/lib/python3.10/dist-packages (from pydantic<3,>=1->langchain) (0.7.0)\n",
            "Requirement already satisfied: pydantic-core==2.20.1 in /usr/local/lib/python3.10/dist-packages (from pydantic<3,>=1->langchain) (2.20.1)\n",
            "Requirement already satisfied: charset-normalizer<4,>=2 in /usr/local/lib/python3.10/dist-packages (from requests<3,>=2->langchain) (3.3.2)\n",
            "Requirement already satisfied: idna<4,>=2.5 in /usr/local/lib/python3.10/dist-packages (from requests<3,>=2->langchain) (3.7)\n",
            "Requirement already satisfied: urllib3<3,>=1.21.1 in /usr/local/lib/python3.10/dist-packages (from requests<3,>=2->langchain) (2.0.7)\n",
            "Requirement already satisfied: certifi>=2017.4.17 in /usr/local/lib/python3.10/dist-packages (from requests<3,>=2->langchain) (2024.7.4)\n",
            "Requirement already satisfied: greenlet!=0.4.17 in /usr/local/lib/python3.10/dist-packages (from SQLAlchemy<3,>=1.4->langchain) (3.0.3)\n",
            "Collecting jsonpointer>=1.9 (from jsonpatch<2.0,>=1.33->langchain-core<0.3.0,>=0.2.27->langchain)\n",
            "  Downloading jsonpointer-3.0.0-py2.py3-none-any.whl.metadata (2.3 kB)\n",
            "Downloading langchain-0.2.12-py3-none-any.whl (990 kB)\n",
            "\u001b[2K   \u001b[90m━━━━━━━━━━━━━━━━━━━━━━━━━━━━━━━━━━━━━━━━\u001b[0m \u001b[32m990.6/990.6 kB\u001b[0m \u001b[31m12.4 MB/s\u001b[0m eta \u001b[36m0:00:00\u001b[0m\n",
            "\u001b[?25hDownloading langchain_core-0.2.27-py3-none-any.whl (379 kB)\n",
            "\u001b[2K   \u001b[90m━━━━━━━━━━━━━━━━━━━━━━━━━━━━━━━━━━━━━━━━\u001b[0m \u001b[32m379.8/379.8 kB\u001b[0m \u001b[31m20.5 MB/s\u001b[0m eta \u001b[36m0:00:00\u001b[0m\n",
            "\u001b[?25hDownloading langchain_text_splitters-0.2.2-py3-none-any.whl (25 kB)\n",
            "Downloading langsmith-0.1.96-py3-none-any.whl (140 kB)\n",
            "\u001b[2K   \u001b[90m━━━━━━━━━━━━━━━━━━━━━━━━━━━━━━━━━━━━━━━━\u001b[0m \u001b[32m140.1/140.1 kB\u001b[0m \u001b[31m7.8 MB/s\u001b[0m eta \u001b[36m0:00:00\u001b[0m\n",
            "\u001b[?25hDownloading tenacity-8.5.0-py3-none-any.whl (28 kB)\n",
            "Downloading jsonpatch-1.33-py2.py3-none-any.whl (12 kB)\n",
            "Downloading orjson-3.10.6-cp310-cp310-manylinux_2_17_x86_64.manylinux2014_x86_64.whl (141 kB)\n",
            "\u001b[2K   \u001b[90m━━━━━━━━━━━━━━━━━━━━━━━━━━━━━━━━━━━━━━━━\u001b[0m \u001b[32m141.1/141.1 kB\u001b[0m \u001b[31m7.1 MB/s\u001b[0m eta \u001b[36m0:00:00\u001b[0m\n",
            "\u001b[?25hDownloading jsonpointer-3.0.0-py2.py3-none-any.whl (7.6 kB)\n",
            "Installing collected packages: tenacity, orjson, jsonpointer, jsonpatch, langsmith, langchain-core, langchain-text-splitters, langchain\n",
            "  Attempting uninstall: tenacity\n",
            "    Found existing installation: tenacity 9.0.0\n",
            "    Uninstalling tenacity-9.0.0:\n",
            "      Successfully uninstalled tenacity-9.0.0\n",
            "Successfully installed jsonpatch-1.33 jsonpointer-3.0.0 langchain-0.2.12 langchain-core-0.2.27 langchain-text-splitters-0.2.2 langsmith-0.1.96 orjson-3.10.6 tenacity-8.5.0\n"
          ]
        }
      ],
      "source": [
        "!pip install langchain"
      ]
    },
    {
      "cell_type": "code",
      "source": [
        "!pip install --upgrade --quiet google-generativeai langchain-google-genai"
      ],
      "metadata": {
        "id": "9rJ3Hay5L4Si"
      },
      "execution_count": 2,
      "outputs": []
    },
    {
      "cell_type": "code",
      "source": [
        "import os\n",
        "from google.colab import userdata\n",
        "GOOGLE_API_KEY = userdata.get('GOOGLE_API_KEY')\n",
        "os.environ[\"GOOGLE_API_KEY\"] = userdata.get('GOOGLE_API_KEY')\n"
      ],
      "metadata": {
        "id": "aqR6nYR1OG9A"
      },
      "execution_count": 3,
      "outputs": []
    },
    {
      "cell_type": "code",
      "source": [
        "from langchain_google_genai import GoogleGenerativeAIEmbeddings\n",
        "gemini_embeddings = GoogleGenerativeAIEmbeddings(model = \"models/embedding-001\")"
      ],
      "metadata": {
        "id": "zjs3bJT_OlCM"
      },
      "execution_count": 4,
      "outputs": []
    },
    {
      "cell_type": "code",
      "source": [
        "from langchain_google_genai import ChatGoogleGenerativeAI\n",
        "llm = ChatGoogleGenerativeAI(model = \"gemini-1.5-pro\")\n",
        "result = llm.predict(\"Write a poem about India?\")\n",
        "print(result)"
      ],
      "metadata": {
        "colab": {
          "base_uri": "https://localhost:8080/"
        },
        "id": "-g0HBGApO2ua",
        "outputId": "8925e610-64ce-406e-925b-4678d5e4be72"
      },
      "execution_count": 5,
      "outputs": [
        {
          "output_type": "stream",
          "name": "stderr",
          "text": [
            "/usr/local/lib/python3.10/dist-packages/langchain_core/_api/deprecation.py:139: LangChainDeprecationWarning: The method `BaseChatModel.predict` was deprecated in langchain-core 0.1.7 and will be removed in 0.3.0. Use invoke instead.\n",
            "  warn_deprecated(\n"
          ]
        },
        {
          "output_type": "stream",
          "name": "stdout",
          "text": [
            "From Himalayan peaks of white, to Kerala's sun-kissed shore,\n",
            "A tapestry of colours bright, India, what's in store?\n",
            "A thousand tongues in vibrant dance, a million stories told,\n",
            "In ancient temples, markets chance, where spices bloom of old.\n",
            "\n",
            "The Ganges flows, a sacred stream, reflecting morning light,\n",
            "As prayers arise, a whispered dream, on breezes taking flight.\n",
            "The Taj Mahal, a love untold, in marble pure and white,\n",
            "A testament to stories bold, beneath the moon so bright.\n",
            "\n",
            "From bustling streets to rural farms, where life finds its own pace,\n",
            "The sitar's song, the chanting psalms, a smile on every face.\n",
            "In bustling Mumbai, Delhi's heart, or Jaipur's rosy hue,\n",
            "A vibrant pulse, a work of art, India, old and new.\n",
            "\n",
            "The scent of chai, the spicy heat, of samosas, hot and fried,\n",
            "The rhythmic beat of dancing feet, with colours side by side.\n",
            "A land of contrasts, rich and deep, where ancient meets the new,\n",
            "India's spirit, strong and steep, forever welcomes you. \n",
            "\n"
          ]
        }
      ]
    },
    {
      "cell_type": "code",
      "source": [
        "from langchain.prompts import PromptTemplate\n",
        "llm = ChatGoogleGenerativeAI(model = \"gemini-1.5-pro\")"
      ],
      "metadata": {
        "id": "Q9CB3DyJQIVU"
      },
      "execution_count": 6,
      "outputs": []
    },
    {
      "cell_type": "code",
      "source": [
        "from re import template\n",
        "prompt_template =  PromptTemplate(\n",
        "    input_variables = [\"cuisine\"],\n",
        "    template = \" I want to open a restaurant for {cuisine} food. Suggest a fancy name for this.\"\n",
        "\n",
        ")"
      ],
      "metadata": {
        "id": "WbGmb0X7QOHP"
      },
      "execution_count": 7,
      "outputs": []
    },
    {
      "cell_type": "code",
      "source": [
        "prompt = prompt_template.format(cuisine = \"Italian\")"
      ],
      "metadata": {
        "id": "ywjlmhu9SdrT"
      },
      "execution_count": 8,
      "outputs": []
    },
    {
      "cell_type": "code",
      "source": [
        "prompt"
      ],
      "metadata": {
        "colab": {
          "base_uri": "https://localhost:8080/",
          "height": 35
        },
        "id": "vvw-PMO5SkAc",
        "outputId": "15aa352e-0da7-4180-840d-c24957b29b0a"
      },
      "execution_count": 9,
      "outputs": [
        {
          "output_type": "execute_result",
          "data": {
            "text/plain": [
              "' I want to open a restaurant for Italian food. Suggest a fancy name for this.'"
            ],
            "application/vnd.google.colaboratory.intrinsic+json": {
              "type": "string"
            }
          },
          "metadata": {},
          "execution_count": 9
        }
      ]
    },
    {
      "cell_type": "code",
      "source": [
        "prompt2 = PromptTemplate.from_template(\"What is a good name for a company that makes {product}?\")"
      ],
      "metadata": {
        "id": "G13DD0iPSk7H"
      },
      "execution_count": 10,
      "outputs": []
    },
    {
      "cell_type": "code",
      "source": [
        "prompt2.format(product = \"colorful socks\")"
      ],
      "metadata": {
        "colab": {
          "base_uri": "https://localhost:8080/",
          "height": 35
        },
        "id": "h1Zaza-hUM2i",
        "outputId": "dda434b9-fbbe-4e93-acf3-7dd88810987f"
      },
      "execution_count": 11,
      "outputs": [
        {
          "output_type": "execute_result",
          "data": {
            "text/plain": [
              "'What is a good name for a company that makes colorful socks?'"
            ],
            "application/vnd.google.colaboratory.intrinsic+json": {
              "type": "string"
            }
          },
          "metadata": {},
          "execution_count": 11
        }
      ]
    },
    {
      "cell_type": "code",
      "source": [
        "from langchain.chains import LLMChain\n",
        "chain = LLMChain(llm = llm, prompt = prompt2)"
      ],
      "metadata": {
        "colab": {
          "base_uri": "https://localhost:8080/"
        },
        "id": "CjK8s0bnUUjL",
        "outputId": "7a2ce36d-0896-48fc-f1de-6d312b7d1367"
      },
      "execution_count": 12,
      "outputs": [
        {
          "output_type": "stream",
          "name": "stderr",
          "text": [
            "/usr/local/lib/python3.10/dist-packages/langchain_core/_api/deprecation.py:139: LangChainDeprecationWarning: The class `LLMChain` was deprecated in LangChain 0.1.17 and will be removed in 1.0. Use RunnableSequence, e.g., `prompt | llm` instead.\n",
            "  warn_deprecated(\n"
          ]
        }
      ]
    },
    {
      "cell_type": "code",
      "source": [
        "print(chain.run(\"colorful socks\"))"
      ],
      "metadata": {
        "colab": {
          "base_uri": "https://localhost:8080/"
        },
        "id": "Lc9cbcSdUmYp",
        "outputId": "825cfb23-e8a9-42e7-8295-abd2bc436bb7"
      },
      "execution_count": 13,
      "outputs": [
        {
          "output_type": "stream",
          "name": "stderr",
          "text": [
            "/usr/local/lib/python3.10/dist-packages/langchain_core/_api/deprecation.py:139: LangChainDeprecationWarning: The method `Chain.run` was deprecated in langchain 0.1.0 and will be removed in 0.3.0. Use invoke instead.\n",
            "  warn_deprecated(\n"
          ]
        },
        {
          "output_type": "stream",
          "name": "stdout",
          "text": [
            "Here are some good names for a company that makes colorful socks, playing on different themes:\n",
            "\n",
            "**Fun & Quirky:**\n",
            "\n",
            "* Sole Mates\n",
            "* Sock It To Me\n",
            "* Happy Feet Treats\n",
            "* The Sock Drawer\n",
            "* Mismatched Mayhem\n",
            "* Rainbow Riders\n",
            "* Footloose & Fancy-Free\n",
            "* Pattern Play\n",
            "* The Socktopus\n",
            "* Sockalicious\n",
            "\n",
            "**Sophisticated & Playful:**\n",
            "\n",
            "* Hue & Step\n",
            "* The Colorful Crew\n",
            "* Stride & Style\n",
            "* The Sock Connoisseur\n",
            "* The Patterned Path\n",
            "* Walk This Way\n",
            "* Sole Expressions\n",
            "* The Artful Sock\n",
            "* Woven Wonders\n",
            "* Footnotes\n",
            "\n",
            "**Descriptive & Evocative:**\n",
            "\n",
            "* Bold Steps\n",
            "* Vivid Soles\n",
            "* Bright Feet Forward\n",
            "* Kaleidoscope Socks\n",
            "* Spectrum Threads\n",
            "* The Color Pop\n",
            "* Paint Your Steps\n",
            "* The Happy Sock Company\n",
            "* Foot Candy\n",
            "* Sockspressions\n",
            "\n",
            "**Tips for choosing a name:**\n",
            "\n",
            "* **Keep it short and memorable.**\n",
            "* **Make sure the name is easy to pronounce and spell.**\n",
            "* **Consider your target audience and brand personality.**\n",
            "* **Check for trademark availability.**\n",
            "* **Get feedback from others.**\n",
            "\n",
            "Ultimately, the best name for your company will be one that you love and that resonates with your brand. Good luck! \n",
            "\n"
          ]
        }
      ]
    },
    {
      "cell_type": "code",
      "source": [
        "prompt_template1 =  PromptTemplate(\n",
        "    input_variables = [\"cuisine\"],\n",
        "    template = \" I want to open a restaurant for {cuisine} food. Suggest a fancy name for this.\"\n",
        "\n",
        ")"
      ],
      "metadata": {
        "id": "_PiMP0LBVcG7"
      },
      "execution_count": 14,
      "outputs": []
    },
    {
      "cell_type": "code",
      "source": [
        "chain = LLMChain(llm = llm, prompt = prompt_template1)"
      ],
      "metadata": {
        "id": "ioMbaXbZVmin"
      },
      "execution_count": 15,
      "outputs": []
    },
    {
      "cell_type": "code",
      "source": [
        "response = chain.run(\"Indian\")"
      ],
      "metadata": {
        "id": "CuZd6B3SVpYJ"
      },
      "execution_count": 16,
      "outputs": []
    },
    {
      "cell_type": "code",
      "source": [
        "print(response)"
      ],
      "metadata": {
        "colab": {
          "base_uri": "https://localhost:8080/"
        },
        "id": "plYYvA-GVr6J",
        "outputId": "d443570c-80ef-4e5d-a067-8932ca23f3d3"
      },
      "execution_count": 17,
      "outputs": [
        {
          "output_type": "stream",
          "name": "stdout",
          "text": [
            "Here are some fancy name ideas for an Indian restaurant, playing with different styles and concepts:\n",
            "\n",
            "**Elegant & Evocative:**\n",
            "\n",
            "* **Aasha's** (meaning \"hope\" in Hindi)\n",
            "* **Chandni** (moonlight)\n",
            "* **Jharokha** (ornate window)\n",
            "* **Rang Mahal** (palace of colors)\n",
            "* **Amrut** (nectar of the gods)\n",
            "* **Moksha** (liberation)\n",
            "\n",
            "**Modern & Chic:**\n",
            "\n",
            "* **Masala & Mint**\n",
            "* **Tandoor Nights**\n",
            "* **The Saffron Room**\n",
            "* **Spice Route Bistro**\n",
            "* **Urban Curry**\n",
            "* **The Tiffin Box**\n",
            "\n",
            "**Location Specific:**\n",
            "\n",
            "* **[Your City/Neighborhood] Spice Market**\n",
            "* **The [Local Landmark] Tandoor**\n",
            "* **[Your Name]'s Indian Kitchen**\n",
            "\n",
            "**Playful & Unique:**\n",
            "\n",
            "* **Naanstop**\n",
            "* **Curry Up & See Me**\n",
            "* **Butter Chicken & Chill**\n",
            "* **The Samosa Social**\n",
            "\n",
            "**Tips for Choosing a Name:**\n",
            "\n",
            "* **Consider your target audience.** Who are you trying to attract? \n",
            "* **Keep it short and memorable.** \n",
            "* **Make sure the name is available.** Check for trademarks and domain names.\n",
            "* **Test it out on potential customers.** Get feedback on your favorites.\n",
            "\n",
            "**Bonus:** \n",
            "\n",
            "* Consider using Hindi, Sanskrit, or Urdu words for an authentic touch.\n",
            "* Look up the meaning of the words you choose to avoid any unintended connotations. \n",
            "\n"
          ]
        }
      ]
    },
    {
      "cell_type": "code",
      "source": [
        "prompt_template_name =  PromptTemplate(\n",
        "    input_variables = [\"cuisine\"],\n",
        "    template = \" I want to open a restaurant for {cuisine} food. Suggest a fancy name for this.\"\n",
        "\n",
        ")"
      ],
      "metadata": {
        "id": "Bofz86XjV6t1"
      },
      "execution_count": 27,
      "outputs": []
    },
    {
      "cell_type": "code",
      "source": [
        "chain = LLMChain(llm = llm, prompt = prompt_template_name, output_key = \"restaurant_name\")"
      ],
      "metadata": {
        "id": "lSQ2OnDxWP8R"
      },
      "execution_count": 28,
      "outputs": []
    },
    {
      "cell_type": "code",
      "source": [
        "prompt_template_items =  PromptTemplate(\n",
        "    input_variables = [\"restaurant_name\"],\n",
        "    template = \"Suggest some menu items for {restaurant_name}. Return it as a comma separated string\"\n",
        "\n",
        ")"
      ],
      "metadata": {
        "id": "J8Z17q_KWcVx"
      },
      "execution_count": 29,
      "outputs": []
    },
    {
      "cell_type": "code",
      "source": [
        "food_items_chain = LLMChain(llm = llm, prompt = prompt_template_items, output_key = \"menu_items\")"
      ],
      "metadata": {
        "id": "k8Nf0pGnWoqh"
      },
      "execution_count": 30,
      "outputs": []
    },
    {
      "cell_type": "code",
      "source": [
        "from langchain.chains import SequentialChain\n",
        "chain = SequentialChain(\n",
        "    chains = [chain, food_items_chain],\n",
        "    input_variables = [\"cuisine\"],\n",
        "    output_variables = [\"restaurant_name\", \"menu_items\"]\n",
        ")"
      ],
      "metadata": {
        "id": "CUpdSAPsWpDt"
      },
      "execution_count": 31,
      "outputs": []
    },
    {
      "cell_type": "code",
      "source": [
        "print(chain({\"cuisine\" : \"Indian\"}))"
      ],
      "metadata": {
        "colab": {
          "base_uri": "https://localhost:8080/"
        },
        "id": "iaR-lZ7mWxE4",
        "outputId": "9a1aac80-be48-41e7-83ee-a43126909896"
      },
      "execution_count": 32,
      "outputs": [
        {
          "output_type": "stream",
          "name": "stdout",
          "text": [
            "{'cuisine': 'Indian', 'restaurant_name': 'Here are some fancy names for an Indian restaurant, playing on different themes:\\n\\n**Elegant & Evocative:**\\n\\n* **Amber Spice**\\n* **Saffron & Silk**\\n* **The Jewel Box**\\n* **Marigold Moon**\\n* **Spice Route Rhapsody**\\n* **The Peacock\\'s Plume**\\n* **Indus Dreams**\\n* **Ganges Whisper**\\n\\n**Modern & Chic:**\\n\\n* **Masala + Mint**\\n* **Tandoor Moderne**\\n* **The Curry Leaf Collective**\\n* **Chutney & Chaat**\\n* **Urban Tiffin**\\n\\n**Traditional & Authentic:**\\n\\n* **Haveli** (meaning \"mansion\" in Hindi)\\n* **Darbar** (meaning \"royal court\")\\n* **Nawab\\'s Kitchen**\\n* **Maharani\\'s Feast**\\n* **The Spice Bazaar**\\n\\n**Location Specific:** (If applicable)\\n\\n* **[Your City/Neighborhood] Tandoor**\\n* **The [Local Landmark] Spice House**\\n\\n**Tips for choosing the perfect name:**\\n\\n* **Keep it short and memorable.**\\n* **Make sure it\\'s easy to pronounce and spell.**\\n* **Consider your target audience and the overall ambiance you want to create.**\\n* **Check for available domain names and social media handles.**\\n\\nGood luck with your new restaurant! \\n', 'menu_items': 'Please provide me with a restaurant name so I can suggest menu items! 😊 \\n'}\n"
          ]
        }
      ]
    },
    {
      "cell_type": "code",
      "source": [
        "response = chain({\"cuisine\" : \"Indian\"})"
      ],
      "metadata": {
        "id": "qziB4cPyWzvM"
      },
      "execution_count": 34,
      "outputs": []
    },
    {
      "cell_type": "code",
      "source": [
        "for key in response.keys():\n",
        "  print(key, response[key])\n",
        "  print(30*\"=\")"
      ],
      "metadata": {
        "colab": {
          "base_uri": "https://localhost:8080/"
        },
        "id": "LQMlYpMUXAkm",
        "outputId": "3f1a0051-4243-4b2c-f627-e9cdfef5268a"
      },
      "execution_count": 35,
      "outputs": [
        {
          "output_type": "stream",
          "name": "stdout",
          "text": [
            "cuisine Indian\n",
            "==============================\n",
            "restaurant_name Here are some fancy restaurant names for Indian food, playing on different aspects of Indian culture, language, and cuisine:\n",
            "\n",
            "**Elegant & Evocative**\n",
            "\n",
            "* **Amrita**: Sanskrit for \"nectar of the gods,\" implying deliciousness.\n",
            "* **Chandni**: Hindi for \"moonlight,\" evoking a romantic ambiance.\n",
            "* **Maharani**: Meaning \"great queen,\" suggesting luxury and grandeur.\n",
            "* **Rajwadi**: Meaning \"royal,\" implying a majestic dining experience.\n",
            "* **Moksha**: A Sanskrit word for liberation, suggesting a transcendent dining experience.\n",
            "* **Avani**: Sanskrit for \"earth,\" evoking natural flavors and ingredients.\n",
            "* **Indus**: After the Indus River, the cradle of Indian civilization.\n",
            "\n",
            "**Playful & Modern**\n",
            "\n",
            "* **Masala & Mint**:  A catchy name highlighting two key Indian flavors.\n",
            "* **Spice Route**:  Evokes the historical trade route and exotic spices.\n",
            "* **Tandoor Nights**:  Alluring name referencing a popular Indian cooking method.\n",
            "* **Curryosity**:  A playful name for a restaurant specializing in curries.\n",
            "* **Naanstop**: A catchy and memorable name with a fun play on words. \n",
            "\n",
            "**Location Specific**\n",
            "\n",
            "* **(Your City) Darbar**:  Darbar means \"court\" and adds a regal touch.\n",
            "* **The (Local Landmark) Spice House**: Connects your restaurant to the local area.\n",
            "\n",
            "**Tips for Choosing the Perfect Name:**\n",
            "\n",
            "* **Keep it concise and easy to remember.**\n",
            "* **Check for trademark availability.**\n",
            "* **Consider your target audience and the atmosphere you want to create.**\n",
            "* **Get feedback from others on your top choices.**\n",
            "\n",
            "Good luck with your new restaurant! \n",
            "\n",
            "==============================\n",
            "menu_items Here are some menu items for fancy Indian restaurants, keeping in mind the elegant themes you've chosen:\n",
            "\n",
            "**Appetizers:**\n",
            "\n",
            "* **Chandni Murgh Tikka:**  Moonlit chicken tikka, marinated in yogurt and spices, cooked in a tandoor.\n",
            "* **Amritsari Fish Fry:** Crispy fried fish fillets, coated in a spiced chickpea batter.\n",
            "* **Avani Ki Seekh:**  Minced vegetables and paneer, skewered and grilled in a tandoor.\n",
            "* **Masala & Mint Samosa Trio:**  Three samosas filled with potato, lamb, and spinach, served with mint chutney.\n",
            "* **Spice Route Platter:** A selection of traditional Indian appetizers, including samosas, pakoras, and kebabs.\n",
            "\n",
            "**Main Courses:**\n",
            "\n",
            "* **Maharani Butter Chicken:**  Rich and creamy tomato-based curry with tender chicken pieces.\n",
            "* **Rajwadi Rogan Josh:**  Aromatic lamb curry cooked in a gravy of onions, yogurt, and Kashmiri chilies.\n",
            "* **Moksha Malai Kofta:**  Vegetable balls cooked in a creamy cashew and almond sauce.\n",
            "* **Indus River Prawn Curry:**  Fresh prawns simmered in a coconut milk-based curry with curry leaves and mustard seeds.\n",
            "* **Tandoor Nights Tandoori Platter:** An assortment of tandoor-cooked meats and vegetables, perfect for sharing.\n",
            "\n",
            "**Breads & Rice:**\n",
            "\n",
            "* **Naanstop Garlic Naan:**  Soft and fluffy leavened bread, flavored with garlic and cilantro.\n",
            "* **Lacha Paratha:**  Flaky and layered whole wheat bread.\n",
            "* **Saffron Rice:**  Basmati rice infused with saffron, adding a delicate aroma and flavor.\n",
            "* **Biryani (Vegetable/Chicken/Lamb):**  Aromatic rice dish cooked with vegetables, meat, and spices.\n",
            "\n",
            "**Desserts:**\n",
            "\n",
            "* **Gulab Jamun:**  Soft and spongy milk balls, deep-fried and soaked in a sugar syrup.\n",
            "* **Rasmalai:**  Soft cheese patties soaked in a sweet, creamy milk sauce.\n",
            "* **Kulfi (Pistachio/Mango/Saffron):**  Indian ice cream made with condensed milk, nuts, and spices.\n",
            "\n",
            "**Remember to:**\n",
            "\n",
            "* Use high-quality ingredients and authentic spices.\n",
            "* Present your dishes beautifully with garnishes and plating.\n",
            "* Offer a variety of options for different dietary needs and preferences. \n",
            "\n",
            "==============================\n"
          ]
        }
      ]
    },
    {
      "cell_type": "code",
      "source": [
        "!pip install google-search-results"
      ],
      "metadata": {
        "colab": {
          "base_uri": "https://localhost:8080/"
        },
        "id": "97x0kll4YYd7",
        "outputId": "d81f597d-e42b-4e07-eca8-65fb13d3668f"
      },
      "execution_count": 36,
      "outputs": [
        {
          "output_type": "stream",
          "name": "stdout",
          "text": [
            "Collecting google-search-results\n",
            "  Downloading google_search_results-2.4.2.tar.gz (18 kB)\n",
            "  Preparing metadata (setup.py) ... \u001b[?25l\u001b[?25hdone\n",
            "Requirement already satisfied: requests in /usr/local/lib/python3.10/dist-packages (from google-search-results) (2.31.0)\n",
            "Requirement already satisfied: charset-normalizer<4,>=2 in /usr/local/lib/python3.10/dist-packages (from requests->google-search-results) (3.3.2)\n",
            "Requirement already satisfied: idna<4,>=2.5 in /usr/local/lib/python3.10/dist-packages (from requests->google-search-results) (3.7)\n",
            "Requirement already satisfied: urllib3<3,>=1.21.1 in /usr/local/lib/python3.10/dist-packages (from requests->google-search-results) (2.0.7)\n",
            "Requirement already satisfied: certifi>=2017.4.17 in /usr/local/lib/python3.10/dist-packages (from requests->google-search-results) (2024.7.4)\n",
            "Building wheels for collected packages: google-search-results\n",
            "  Building wheel for google-search-results (setup.py) ... \u001b[?25l\u001b[?25hdone\n",
            "  Created wheel for google-search-results: filename=google_search_results-2.4.2-py3-none-any.whl size=32010 sha256=9230a9d60a66bd8bd501b4c82afd6dc303cffe354b419ed33ee3d2fdee23742e\n",
            "  Stored in directory: /root/.cache/pip/wheels/d3/b2/c3/03302d12bb44a2cdff3c9371f31b72c0c4e84b8d2285eeac53\n",
            "Successfully built google-search-results\n",
            "Installing collected packages: google-search-results\n",
            "Successfully installed google-search-results-2.4.2\n"
          ]
        }
      ]
    },
    {
      "cell_type": "code",
      "source": [
        "pip install -U langchain-community"
      ],
      "metadata": {
        "colab": {
          "base_uri": "https://localhost:8080/"
        },
        "id": "Fe_iOsVdcEuy",
        "outputId": "03751efa-47ad-4d7b-9946-174fa92bb288"
      },
      "execution_count": 37,
      "outputs": [
        {
          "output_type": "stream",
          "name": "stdout",
          "text": [
            "Collecting langchain-community\n",
            "  Downloading langchain_community-0.2.10-py3-none-any.whl.metadata (2.7 kB)\n",
            "Requirement already satisfied: PyYAML>=5.3 in /usr/local/lib/python3.10/dist-packages (from langchain-community) (6.0.1)\n",
            "Requirement already satisfied: SQLAlchemy<3,>=1.4 in /usr/local/lib/python3.10/dist-packages (from langchain-community) (2.0.31)\n",
            "Requirement already satisfied: aiohttp<4.0.0,>=3.8.3 in /usr/local/lib/python3.10/dist-packages (from langchain-community) (3.9.5)\n",
            "Collecting dataclasses-json<0.7,>=0.5.7 (from langchain-community)\n",
            "  Downloading dataclasses_json-0.6.7-py3-none-any.whl.metadata (25 kB)\n",
            "Requirement already satisfied: langchain<0.3.0,>=0.2.9 in /usr/local/lib/python3.10/dist-packages (from langchain-community) (0.2.12)\n",
            "Requirement already satisfied: langchain-core<0.3.0,>=0.2.23 in /usr/local/lib/python3.10/dist-packages (from langchain-community) (0.2.27)\n",
            "Requirement already satisfied: langsmith<0.2.0,>=0.1.0 in /usr/local/lib/python3.10/dist-packages (from langchain-community) (0.1.96)\n",
            "Requirement already satisfied: numpy<2,>=1 in /usr/local/lib/python3.10/dist-packages (from langchain-community) (1.26.4)\n",
            "Requirement already satisfied: requests<3,>=2 in /usr/local/lib/python3.10/dist-packages (from langchain-community) (2.31.0)\n",
            "Requirement already satisfied: tenacity!=8.4.0,<9.0.0,>=8.1.0 in /usr/local/lib/python3.10/dist-packages (from langchain-community) (8.5.0)\n",
            "Requirement already satisfied: aiosignal>=1.1.2 in /usr/local/lib/python3.10/dist-packages (from aiohttp<4.0.0,>=3.8.3->langchain-community) (1.3.1)\n",
            "Requirement already satisfied: attrs>=17.3.0 in /usr/local/lib/python3.10/dist-packages (from aiohttp<4.0.0,>=3.8.3->langchain-community) (23.2.0)\n",
            "Requirement already satisfied: frozenlist>=1.1.1 in /usr/local/lib/python3.10/dist-packages (from aiohttp<4.0.0,>=3.8.3->langchain-community) (1.4.1)\n",
            "Requirement already satisfied: multidict<7.0,>=4.5 in /usr/local/lib/python3.10/dist-packages (from aiohttp<4.0.0,>=3.8.3->langchain-community) (6.0.5)\n",
            "Requirement already satisfied: yarl<2.0,>=1.0 in /usr/local/lib/python3.10/dist-packages (from aiohttp<4.0.0,>=3.8.3->langchain-community) (1.9.4)\n",
            "Requirement already satisfied: async-timeout<5.0,>=4.0 in /usr/local/lib/python3.10/dist-packages (from aiohttp<4.0.0,>=3.8.3->langchain-community) (4.0.3)\n",
            "Collecting marshmallow<4.0.0,>=3.18.0 (from dataclasses-json<0.7,>=0.5.7->langchain-community)\n",
            "  Downloading marshmallow-3.21.3-py3-none-any.whl.metadata (7.1 kB)\n",
            "Collecting typing-inspect<1,>=0.4.0 (from dataclasses-json<0.7,>=0.5.7->langchain-community)\n",
            "  Downloading typing_inspect-0.9.0-py3-none-any.whl.metadata (1.5 kB)\n",
            "Requirement already satisfied: langchain-text-splitters<0.3.0,>=0.2.0 in /usr/local/lib/python3.10/dist-packages (from langchain<0.3.0,>=0.2.9->langchain-community) (0.2.2)\n",
            "Requirement already satisfied: pydantic<3,>=1 in /usr/local/lib/python3.10/dist-packages (from langchain<0.3.0,>=0.2.9->langchain-community) (2.8.2)\n",
            "Requirement already satisfied: jsonpatch<2.0,>=1.33 in /usr/local/lib/python3.10/dist-packages (from langchain-core<0.3.0,>=0.2.23->langchain-community) (1.33)\n",
            "Requirement already satisfied: packaging<25,>=23.2 in /usr/local/lib/python3.10/dist-packages (from langchain-core<0.3.0,>=0.2.23->langchain-community) (24.1)\n",
            "Requirement already satisfied: typing-extensions>=4.7 in /usr/local/lib/python3.10/dist-packages (from langchain-core<0.3.0,>=0.2.23->langchain-community) (4.12.2)\n",
            "Requirement already satisfied: orjson<4.0.0,>=3.9.14 in /usr/local/lib/python3.10/dist-packages (from langsmith<0.2.0,>=0.1.0->langchain-community) (3.10.6)\n",
            "Requirement already satisfied: charset-normalizer<4,>=2 in /usr/local/lib/python3.10/dist-packages (from requests<3,>=2->langchain-community) (3.3.2)\n",
            "Requirement already satisfied: idna<4,>=2.5 in /usr/local/lib/python3.10/dist-packages (from requests<3,>=2->langchain-community) (3.7)\n",
            "Requirement already satisfied: urllib3<3,>=1.21.1 in /usr/local/lib/python3.10/dist-packages (from requests<3,>=2->langchain-community) (2.0.7)\n",
            "Requirement already satisfied: certifi>=2017.4.17 in /usr/local/lib/python3.10/dist-packages (from requests<3,>=2->langchain-community) (2024.7.4)\n",
            "Requirement already satisfied: greenlet!=0.4.17 in /usr/local/lib/python3.10/dist-packages (from SQLAlchemy<3,>=1.4->langchain-community) (3.0.3)\n",
            "Requirement already satisfied: jsonpointer>=1.9 in /usr/local/lib/python3.10/dist-packages (from jsonpatch<2.0,>=1.33->langchain-core<0.3.0,>=0.2.23->langchain-community) (3.0.0)\n",
            "Requirement already satisfied: annotated-types>=0.4.0 in /usr/local/lib/python3.10/dist-packages (from pydantic<3,>=1->langchain<0.3.0,>=0.2.9->langchain-community) (0.7.0)\n",
            "Requirement already satisfied: pydantic-core==2.20.1 in /usr/local/lib/python3.10/dist-packages (from pydantic<3,>=1->langchain<0.3.0,>=0.2.9->langchain-community) (2.20.1)\n",
            "Collecting mypy-extensions>=0.3.0 (from typing-inspect<1,>=0.4.0->dataclasses-json<0.7,>=0.5.7->langchain-community)\n",
            "  Downloading mypy_extensions-1.0.0-py3-none-any.whl.metadata (1.1 kB)\n",
            "Downloading langchain_community-0.2.10-py3-none-any.whl (2.3 MB)\n",
            "\u001b[2K   \u001b[90m━━━━━━━━━━━━━━━━━━━━━━━━━━━━━━━━━━━━━━━━\u001b[0m \u001b[32m2.3/2.3 MB\u001b[0m \u001b[31m24.6 MB/s\u001b[0m eta \u001b[36m0:00:00\u001b[0m\n",
            "\u001b[?25hDownloading dataclasses_json-0.6.7-py3-none-any.whl (28 kB)\n",
            "Downloading marshmallow-3.21.3-py3-none-any.whl (49 kB)\n",
            "\u001b[2K   \u001b[90m━━━━━━━━━━━━━━━━━━━━━━━━━━━━━━━━━━━━━━━━\u001b[0m \u001b[32m49.2/49.2 kB\u001b[0m \u001b[31m2.9 MB/s\u001b[0m eta \u001b[36m0:00:00\u001b[0m\n",
            "\u001b[?25hDownloading typing_inspect-0.9.0-py3-none-any.whl (8.8 kB)\n",
            "Downloading mypy_extensions-1.0.0-py3-none-any.whl (4.7 kB)\n",
            "Installing collected packages: mypy-extensions, marshmallow, typing-inspect, dataclasses-json, langchain-community\n",
            "Successfully installed dataclasses-json-0.6.7 langchain-community-0.2.10 marshmallow-3.21.3 mypy-extensions-1.0.0 typing-inspect-0.9.0\n"
          ]
        }
      ]
    },
    {
      "cell_type": "code",
      "source": [
        "from langchain.agents import load_tools\n",
        "from langchain.agents import initialize_agent\n",
        "from langchain.agents import AgentType"
      ],
      "metadata": {
        "id": "Zw4n1U9Pb_qC"
      },
      "execution_count": 38,
      "outputs": []
    },
    {
      "cell_type": "code",
      "source": [
        "tools = load_tools([\"serpapi\", \"llm-math\"], llm = llm)"
      ],
      "metadata": {
        "id": "ZQ8zdc4CcT_T"
      },
      "execution_count": 42,
      "outputs": []
    },
    {
      "cell_type": "code",
      "source": [
        "os.environ[\"SERPAPI_API_KEY\"] = userdata.get('SERPAPI_API_KEY')"
      ],
      "metadata": {
        "id": "kousTwTRcUWp"
      },
      "execution_count": 41,
      "outputs": []
    },
    {
      "cell_type": "code",
      "source": [
        "agent = initialize_agent(tools, llm, agent = AgentType.ZERO_SHOT_REACT_DESCRIPTION, verbose = True)"
      ],
      "metadata": {
        "colab": {
          "base_uri": "https://localhost:8080/"
        },
        "id": "hfP3uPZLeC0k",
        "outputId": "fdcb94fb-51f2-4771-a898-51ee8a37a186"
      },
      "execution_count": 43,
      "outputs": [
        {
          "output_type": "stream",
          "name": "stderr",
          "text": [
            "/usr/local/lib/python3.10/dist-packages/langchain_core/_api/deprecation.py:139: LangChainDeprecationWarning: The function `initialize_agent` was deprecated in LangChain 0.1.0 and will be removed in 0.3.0. Use Use new agent constructor methods like create_react_agent, create_json_agent, create_structured_chat_agent, etc. instead.\n",
            "  warn_deprecated(\n"
          ]
        }
      ]
    },
    {
      "cell_type": "code",
      "source": [
        "agent.run(\"Who is the current leader of USA?\")"
      ],
      "metadata": {
        "colab": {
          "base_uri": "https://localhost:8080/",
          "height": 263
        },
        "id": "KVnQk8odeHjy",
        "outputId": "67867bb9-2dbf-428a-ca58-60ee6354e68c"
      },
      "execution_count": 44,
      "outputs": [
        {
          "output_type": "stream",
          "name": "stdout",
          "text": [
            "\n",
            "\n",
            "\u001b[1m> Entering new AgentExecutor chain...\u001b[0m\n",
            "\u001b[32;1m\u001b[1;3mThought: I need to search for the current leader of the USA.\n",
            "Action: Search\n",
            "Action Input: current leader of USA\u001b[0m\n",
            "Observation: \u001b[36;1m\u001b[1;3mPresident Joseph R. Biden is the 46th President of the United States.\u001b[0m\n",
            "Thought:\u001b[32;1m\u001b[1;3mThought: I now know the answer\n",
            "Final Answer: Joe Biden is the current leader of the USA. \n",
            "\u001b[0m\n",
            "\n",
            "\u001b[1m> Finished chain.\u001b[0m\n"
          ]
        },
        {
          "output_type": "execute_result",
          "data": {
            "text/plain": [
              "'Joe Biden is the current leader of the USA.'"
            ],
            "application/vnd.google.colaboratory.intrinsic+json": {
              "type": "string"
            }
          },
          "metadata": {},
          "execution_count": 44
        }
      ]
    },
    {
      "cell_type": "code",
      "source": [
        "!pip install wikipedia"
      ],
      "metadata": {
        "colab": {
          "base_uri": "https://localhost:8080/"
        },
        "id": "TuX91qBkeLjP",
        "outputId": "0dc2c467-8393-474e-fc8a-3403f2ad0c13"
      },
      "execution_count": 45,
      "outputs": [
        {
          "output_type": "stream",
          "name": "stdout",
          "text": [
            "Collecting wikipedia\n",
            "  Downloading wikipedia-1.4.0.tar.gz (27 kB)\n",
            "  Preparing metadata (setup.py) ... \u001b[?25l\u001b[?25hdone\n",
            "Requirement already satisfied: beautifulsoup4 in /usr/local/lib/python3.10/dist-packages (from wikipedia) (4.12.3)\n",
            "Requirement already satisfied: requests<3.0.0,>=2.0.0 in /usr/local/lib/python3.10/dist-packages (from wikipedia) (2.31.0)\n",
            "Requirement already satisfied: charset-normalizer<4,>=2 in /usr/local/lib/python3.10/dist-packages (from requests<3.0.0,>=2.0.0->wikipedia) (3.3.2)\n",
            "Requirement already satisfied: idna<4,>=2.5 in /usr/local/lib/python3.10/dist-packages (from requests<3.0.0,>=2.0.0->wikipedia) (3.7)\n",
            "Requirement already satisfied: urllib3<3,>=1.21.1 in /usr/local/lib/python3.10/dist-packages (from requests<3.0.0,>=2.0.0->wikipedia) (2.0.7)\n",
            "Requirement already satisfied: certifi>=2017.4.17 in /usr/local/lib/python3.10/dist-packages (from requests<3.0.0,>=2.0.0->wikipedia) (2024.7.4)\n",
            "Requirement already satisfied: soupsieve>1.2 in /usr/local/lib/python3.10/dist-packages (from beautifulsoup4->wikipedia) (2.5)\n",
            "Building wheels for collected packages: wikipedia\n",
            "  Building wheel for wikipedia (setup.py) ... \u001b[?25l\u001b[?25hdone\n",
            "  Created wheel for wikipedia: filename=wikipedia-1.4.0-py3-none-any.whl size=11680 sha256=fb044ba45716bae48ec914755ef8f349e37681ced59fcf9ee912b81ed8d91aa7\n",
            "  Stored in directory: /root/.cache/pip/wheels/5e/b6/c5/93f3dec388ae76edc830cb42901bb0232504dfc0df02fc50de\n",
            "Successfully built wikipedia\n",
            "Installing collected packages: wikipedia\n",
            "Successfully installed wikipedia-1.4.0\n"
          ]
        }
      ]
    },
    {
      "cell_type": "code",
      "source": [
        "tools = load_tools([\"serpapi\", \"llm-math\", \"wikipedia\"], llm = llm)"
      ],
      "metadata": {
        "id": "xYfh_xFde-SK"
      },
      "execution_count": 46,
      "outputs": []
    },
    {
      "cell_type": "code",
      "source": [
        "agent = initialize_agent(tools, llm, agent = AgentType.ZERO_SHOT_REACT_DESCRIPTION, verbose = True)"
      ],
      "metadata": {
        "id": "mOcFrs6BfC6K"
      },
      "execution_count": 47,
      "outputs": []
    },
    {
      "cell_type": "code",
      "source": [
        "agent.run(\"Who is the current leader of Sri Lanka\")\n"
      ],
      "metadata": {
        "colab": {
          "base_uri": "https://localhost:8080/",
          "height": 281
        },
        "id": "jaHTGOhIfI6n",
        "outputId": "d37aa343-fd42-402f-a7df-8c26969de4df"
      },
      "execution_count": 51,
      "outputs": [
        {
          "output_type": "stream",
          "name": "stderr",
          "text": [
            "WARNING:langchain_google_genai.chat_models:Retrying langchain_google_genai.chat_models._chat_with_retry.<locals>._chat_with_retry in 2.0 seconds as it raised ResourceExhausted: 429 Resource has been exhausted (e.g. check quota)..\n"
          ]
        },
        {
          "output_type": "stream",
          "name": "stdout",
          "text": [
            "\n",
            "\n",
            "\u001b[1m> Entering new AgentExecutor chain...\u001b[0m\n",
            "\u001b[32;1m\u001b[1;3mThought: I need to use a search engine to find the current leader of Sri Lanka.\n",
            "Action: Search\n",
            "Action Input: current leader of Sri Lanka\u001b[0m\n",
            "Observation: \u001b[36;1m\u001b[1;3mRanil Wickremesinghe\u001b[0m\n",
            "Thought:\u001b[32;1m\u001b[1;3mThought: I now know the final answer\n",
            "Final Answer: Ranil Wickremesinghe \n",
            "\u001b[0m\n",
            "\n",
            "\u001b[1m> Finished chain.\u001b[0m\n"
          ]
        },
        {
          "output_type": "execute_result",
          "data": {
            "text/plain": [
              "'Ranil Wickremesinghe'"
            ],
            "application/vnd.google.colaboratory.intrinsic+json": {
              "type": "string"
            }
          },
          "metadata": {},
          "execution_count": 51
        }
      ]
    },
    {
      "cell_type": "code",
      "source": [
        "llm"
      ],
      "metadata": {
        "id": "xeKX2eTafKGb",
        "colab": {
          "base_uri": "https://localhost:8080/"
        },
        "outputId": "62ecaf37-ace9-462e-9f83-ad92013339c6"
      },
      "execution_count": 52,
      "outputs": [
        {
          "output_type": "execute_result",
          "data": {
            "text/plain": [
              "ChatGoogleGenerativeAI(model='models/gemini-1.5-pro', client=<google.ai.generativelanguage_v1beta.services.generative_service.client.GenerativeServiceClient object at 0x7881c8219810>, async_client=<google.ai.generativelanguage_v1beta.services.generative_service.async_client.GenerativeServiceAsyncClient object at 0x7881c821acb0>, default_metadata=())"
            ]
          },
          "metadata": {},
          "execution_count": 52
        }
      ]
    },
    {
      "cell_type": "code",
      "source": [
        "from langchain.prompts import PromptTemplate\n",
        "prompt_template =  PromptTemplate(\n",
        "    input_variables = [\"cuisine\"],\n",
        "    template = \" I want to open a restaurant for {cuisine} food. Suggest a fancy name for this.\"\n",
        "\n",
        ")"
      ],
      "metadata": {
        "id": "Kd2p1xHNaKsR"
      },
      "execution_count": 53,
      "outputs": []
    },
    {
      "cell_type": "code",
      "source": [
        "from langchain.chains import LLMChain\n",
        "chain = LLMChain(llm = llm, prompt = prompt_template)"
      ],
      "metadata": {
        "id": "ZmNGj2n6aLxI"
      },
      "execution_count": 54,
      "outputs": []
    },
    {
      "cell_type": "code",
      "source": [
        "name = chain.run(\"Indian\")"
      ],
      "metadata": {
        "id": "Ip2rbwetaWcp"
      },
      "execution_count": 56,
      "outputs": []
    },
    {
      "cell_type": "code",
      "source": [
        "print(name)"
      ],
      "metadata": {
        "colab": {
          "base_uri": "https://localhost:8080/"
        },
        "id": "eSqeaSzVaWww",
        "outputId": "5b50ad40-a462-44ec-a72a-b23273731004"
      },
      "execution_count": 57,
      "outputs": [
        {
          "output_type": "stream",
          "name": "stdout",
          "text": [
            "Here are some fancy restaurant names for Indian food, playing on different themes:\n",
            "\n",
            "**Elegant & Evocative:**\n",
            "\n",
            "* **Amrita:** Sanskrit for \"nectar of the gods,\" implying deliciousness\n",
            "* **Chandni:** \"Moonlight\" in Hindi, evoking a romantic ambiance\n",
            "* **Masala Memoirs:** Hints at a story behind the flavors\n",
            "* **Saffron & Silk:**  Combines luxury with a key Indian spice\n",
            "* **The Jewel of India:** Classic, suggesting authenticity and quality\n",
            "\n",
            "**Modern & Intriguing:**\n",
            "\n",
            "* **Turmeric Moon:**  Modern yet hints at Indian ingredients\n",
            "* **Spice Route:**  Evokes travel and exotic flavors\n",
            "* **The Curry Leaf:** Simple, yet memorable and ingredient-focused\n",
            "* **Indus Modern:**  Combines Indian heritage with a contemporary feel\n",
            "* **Tandoor Nights:**  Appeals to a sense of experience and ambiance\n",
            "\n",
            "**Location-Specific (If Applicable):**\n",
            "\n",
            "* **[Your City] Spice Market:**  Adds local appeal\n",
            "* **The Bombay Club:**  If your cuisine is specifically from Mumbai\n",
            "* **[Your Last Name]'s Rasoi:**  \"Kitchen\" in Hindi, adds personal touch\n",
            "\n",
            "**Tips for Choosing the Best Name:**\n",
            "\n",
            "* **Easy to pronounce and remember:** Avoid overly complex words.\n",
            "* **Reflects your restaurant's concept:**  Fine dining, casual, etc.\n",
            "* **Check for trademark availability:**  Make sure it's not already taken.\n",
            "* **Get feedback:**  Ask friends and family for their opinions. \n",
            "\n"
          ]
        }
      ]
    },
    {
      "cell_type": "code",
      "source": [
        "names = chain.run(\"Nepali\")"
      ],
      "metadata": {
        "id": "BJVko9TVadnO"
      },
      "execution_count": 58,
      "outputs": []
    },
    {
      "cell_type": "code",
      "source": [
        "print(names)"
      ],
      "metadata": {
        "colab": {
          "base_uri": "https://localhost:8080/"
        },
        "id": "qnsFXQKmehBk",
        "outputId": "caf7730b-f515-4a01-adb3-ac683722a8b0"
      },
      "execution_count": 59,
      "outputs": [
        {
          "output_type": "stream",
          "name": "stdout",
          "text": [
            "Here are some fancy restaurant names for Nepali food, drawing inspiration from Nepali culture, language, and imagery:\n",
            "\n",
            "**Elegant & Evocative:**\n",
            "\n",
            "* **Himalayan Spice**\n",
            "* **Kathmandu Nights**\n",
            "* **The Peacock's Plume**\n",
            "* **Annapurna's Table**\n",
            "* **The Yeti's Feast**\n",
            "* **Everest Heights Cuisine**\n",
            "* **Lumbini Garden**\n",
            "* **Mandala Spice**\n",
            "* **Gurkhas' Kitchen**\n",
            "* **The Saffron Thread**\n",
            "\n",
            "**Using Nepali Words:**\n",
            "\n",
            "* **Swadisht** (Delicious)\n",
            "* **Aama's Kitchen** (Mother's Kitchen)\n",
            "* **Namaste Darbar** (Welcome Palace)\n",
            "* **Mitho Bhojan** (Sweet Food)\n",
            "* **Himalaya Darpan** (Reflection of the Himalayas)\n",
            "* **Spर्श (Sparsha)** (Touch - signifying the touch of spices)\n",
            "\n",
            "**Modern & Chic:**\n",
            "\n",
            "* **Momo & More**\n",
            "* **The Spice Route: Nepal**\n",
            "* **Kathmandu Fusion**\n",
            "* **Himalayan Bites**\n",
            "* **The Yak & Yeti**\n",
            "\n",
            "**Tips for Choosing the Perfect Name:**\n",
            "\n",
            "* **Check for availability:** Make sure the name isn't already taken, especially for trademarks and web domains.\n",
            "* **Keep it concise and memorable:**  Shorter names are often easier to remember and say.\n",
            "* **Reflect your brand:** Consider if you want a name that's traditional, modern, elegant, or playful.\n",
            "* **Location matters:**  If you're targeting a specific neighborhood, you might incorporate that into the name. \n",
            "\n",
            "Good luck with your Nepali restaurant! \n",
            "\n"
          ]
        }
      ]
    },
    {
      "cell_type": "code",
      "source": [
        "print(chain.memory)"
      ],
      "metadata": {
        "colab": {
          "base_uri": "https://localhost:8080/"
        },
        "id": "FFsFYW9Depp1",
        "outputId": "9b1c2e78-7757-45a4-ae72-8674dd93ef48"
      },
      "execution_count": 60,
      "outputs": [
        {
          "output_type": "stream",
          "name": "stdout",
          "text": [
            "None\n"
          ]
        }
      ]
    },
    {
      "cell_type": "code",
      "source": [
        "from langchain.memory import ConversationBufferMemory\n",
        "conversation = ConversationBufferMemory()"
      ],
      "metadata": {
        "id": "10rCMRQFevtW"
      },
      "execution_count": 61,
      "outputs": []
    },
    {
      "cell_type": "code",
      "source": [
        "chain = LLMChain(llm = llm, prompt = prompt_template, memory = conversation)"
      ],
      "metadata": {
        "id": "x-UtcP2hfqe_"
      },
      "execution_count": 62,
      "outputs": []
    },
    {
      "cell_type": "code",
      "source": [
        "name = chain.run(\"Italian\")"
      ],
      "metadata": {
        "id": "CKxWJTiBfr4H"
      },
      "execution_count": 63,
      "outputs": []
    },
    {
      "cell_type": "code",
      "source": [
        "print(name)"
      ],
      "metadata": {
        "colab": {
          "base_uri": "https://localhost:8080/"
        },
        "id": "198z8m51gGXj",
        "outputId": "ec6bf3ac-2e9b-451f-d232-310e1383bbcf"
      },
      "execution_count": 64,
      "outputs": [
        {
          "output_type": "stream",
          "name": "stdout",
          "text": [
            "Here are some fancy Italian restaurant name ideas, playing on different themes:\n",
            "\n",
            "**Elegant & Classic:**\n",
            "\n",
            "* La Bella Vita (The Beautiful Life)\n",
            "* Il Sogno (The Dream)\n",
            "* La Stella d'Oro (The Golden Star)\n",
            "* Il Ristorante di [Your Last Name] \n",
            "* Trattoria Toscana (Tuscan Trattoria - if focused on that region)\n",
            "* Cena Romantica (Romantic Dinner)\n",
            "\n",
            "**Descriptive & Evocative:**\n",
            "\n",
            "* Sapori Autentici (Authentic Flavors)\n",
            "* Aromi di Sicilia (Aromas of Sicily - if regional)\n",
            "* Il Giardino Segreto (The Secret Garden)\n",
            "* La Piazza Nascosta (The Hidden Square)\n",
            "* Vista del Mare (View of the Sea - if applicable)\n",
            "\n",
            "**Short & Chic:**\n",
            "\n",
            "* Il Gusto (The Taste)\n",
            "* La Forchetta (The Fork)\n",
            "* Il Vino (The Wine)\n",
            "* La Cucina (The Kitchen)\n",
            "* Il Fuoco (The Fire)\n",
            "\n",
            "**Tips for Choosing the Right Name:**\n",
            "\n",
            "* **Consider your target audience:** Who are you trying to attract?\n",
            "* **Reflect your menu and atmosphere:** What kind of dining experience do you offer?\n",
            "* **Keep it concise and easy to remember:**  Shorter names are often more impactful.\n",
            "* **Check for availability:** Make sure the name isn't already taken and the domain name is available.\n",
            "\n",
            "Good luck with your new restaurant! \n",
            "\n"
          ]
        }
      ]
    },
    {
      "cell_type": "code",
      "source": [
        "print(chain.memory)"
      ],
      "metadata": {
        "colab": {
          "base_uri": "https://localhost:8080/"
        },
        "id": "TruF0EGmgISF",
        "outputId": "30cd96cd-13b7-4e4a-93cc-af54338b78b6"
      },
      "execution_count": 66,
      "outputs": [
        {
          "output_type": "stream",
          "name": "stdout",
          "text": [
            "chat_memory=InMemoryChatMessageHistory(messages=[HumanMessage(content='Italian'), AIMessage(content=\"Here are some fancy Italian restaurant name ideas, playing on different themes:\\n\\n**Elegant & Classic:**\\n\\n* La Bella Vita (The Beautiful Life)\\n* Il Sogno (The Dream)\\n* La Stella d'Oro (The Golden Star)\\n* Il Ristorante di [Your Last Name] \\n* Trattoria Toscana (Tuscan Trattoria - if focused on that region)\\n* Cena Romantica (Romantic Dinner)\\n\\n**Descriptive & Evocative:**\\n\\n* Sapori Autentici (Authentic Flavors)\\n* Aromi di Sicilia (Aromas of Sicily - if regional)\\n* Il Giardino Segreto (The Secret Garden)\\n* La Piazza Nascosta (The Hidden Square)\\n* Vista del Mare (View of the Sea - if applicable)\\n\\n**Short & Chic:**\\n\\n* Il Gusto (The Taste)\\n* La Forchetta (The Fork)\\n* Il Vino (The Wine)\\n* La Cucina (The Kitchen)\\n* Il Fuoco (The Fire)\\n\\n**Tips for Choosing the Right Name:**\\n\\n* **Consider your target audience:** Who are you trying to attract?\\n* **Reflect your menu and atmosphere:** What kind of dining experience do you offer?\\n* **Keep it concise and easy to remember:**  Shorter names are often more impactful.\\n* **Check for availability:** Make sure the name isn't already taken and the domain name is available.\\n\\nGood luck with your new restaurant! \\n\")])\n"
          ]
        }
      ]
    },
    {
      "cell_type": "code",
      "source": [
        "print(chain.memory.buffer)"
      ],
      "metadata": {
        "colab": {
          "base_uri": "https://localhost:8080/"
        },
        "id": "R8j_86_fgNew",
        "outputId": "7f18c720-e978-4e82-8431-47d7ef77e86e"
      },
      "execution_count": 67,
      "outputs": [
        {
          "output_type": "stream",
          "name": "stdout",
          "text": [
            "Human: Italian\n",
            "AI: Here are some fancy Italian restaurant name ideas, playing on different themes:\n",
            "\n",
            "**Elegant & Classic:**\n",
            "\n",
            "* La Bella Vita (The Beautiful Life)\n",
            "* Il Sogno (The Dream)\n",
            "* La Stella d'Oro (The Golden Star)\n",
            "* Il Ristorante di [Your Last Name] \n",
            "* Trattoria Toscana (Tuscan Trattoria - if focused on that region)\n",
            "* Cena Romantica (Romantic Dinner)\n",
            "\n",
            "**Descriptive & Evocative:**\n",
            "\n",
            "* Sapori Autentici (Authentic Flavors)\n",
            "* Aromi di Sicilia (Aromas of Sicily - if regional)\n",
            "* Il Giardino Segreto (The Secret Garden)\n",
            "* La Piazza Nascosta (The Hidden Square)\n",
            "* Vista del Mare (View of the Sea - if applicable)\n",
            "\n",
            "**Short & Chic:**\n",
            "\n",
            "* Il Gusto (The Taste)\n",
            "* La Forchetta (The Fork)\n",
            "* Il Vino (The Wine)\n",
            "* La Cucina (The Kitchen)\n",
            "* Il Fuoco (The Fire)\n",
            "\n",
            "**Tips for Choosing the Right Name:**\n",
            "\n",
            "* **Consider your target audience:** Who are you trying to attract?\n",
            "* **Reflect your menu and atmosphere:** What kind of dining experience do you offer?\n",
            "* **Keep it concise and easy to remember:**  Shorter names are often more impactful.\n",
            "* **Check for availability:** Make sure the name isn't already taken and the domain name is available.\n",
            "\n",
            "Good luck with your new restaurant! \n",
            "\n"
          ]
        }
      ]
    },
    {
      "cell_type": "markdown",
      "source": [
        "Conversation Chain"
      ],
      "metadata": {
        "id": "FvSI2wnKgkUh"
      }
    },
    {
      "cell_type": "code",
      "source": [
        "from langchain.chains import ConversationChain\n",
        "conversation = ConversationChain(llm = llm, verbose = True)"
      ],
      "metadata": {
        "colab": {
          "base_uri": "https://localhost:8080/"
        },
        "id": "smBYnPTVinpb",
        "outputId": "d86d8612-11f5-401d-fc50-70ef60ef7762"
      },
      "execution_count": 68,
      "outputs": [
        {
          "output_type": "stream",
          "name": "stderr",
          "text": [
            "/usr/local/lib/python3.10/dist-packages/langchain_core/_api/deprecation.py:139: LangChainDeprecationWarning: The class `ConversationChain` was deprecated in LangChain 0.2.7 and will be removed in 1.0. Use RunnableWithMessageHistory: https://api.python.langchain.com/en/latest/runnables/langchain_core.runnables.history.RunnableWithMessageHistory.html instead.\n",
            "  warn_deprecated(\n"
          ]
        }
      ]
    },
    {
      "cell_type": "code",
      "source": [
        "print(conversation.prompt.template)"
      ],
      "metadata": {
        "colab": {
          "base_uri": "https://localhost:8080/"
        },
        "id": "3_uPqyUOioKa",
        "outputId": "82798803-c6ad-4c12-c675-cb4146d3eedc"
      },
      "execution_count": 70,
      "outputs": [
        {
          "output_type": "stream",
          "name": "stdout",
          "text": [
            "The following is a friendly conversation between a human and an AI. The AI is talkative and provides lots of specific details from its context. If the AI does not know the answer to a question, it truthfully says it does not know.\n",
            "\n",
            "Current conversation:\n",
            "{history}\n",
            "Human: {input}\n",
            "AI:\n"
          ]
        }
      ]
    },
    {
      "cell_type": "code",
      "source": [
        "conversation.run(\"Who won the FIFA World Cup in the year 1994?\")"
      ],
      "metadata": {
        "colab": {
          "base_uri": "https://localhost:8080/",
          "height": 350
        },
        "id": "hTexon1qivWq",
        "outputId": "5b32b0fa-15e6-4648-8d5e-83fd77b6fe00"
      },
      "execution_count": 71,
      "outputs": [
        {
          "output_type": "stream",
          "name": "stdout",
          "text": [
            "\n",
            "\n",
            "\u001b[1m> Entering new ConversationChain chain...\u001b[0m\n",
            "Prompt after formatting:\n",
            "\u001b[32;1m\u001b[1;3mThe following is a friendly conversation between a human and an AI. The AI is talkative and provides lots of specific details from its context. If the AI does not know the answer to a question, it truthfully says it does not know.\n",
            "\n",
            "Current conversation:\n",
            "\n",
            "Human: Who won the FIFA World Cup in the year 1994?\n",
            "AI:\u001b[0m\n",
            "\n",
            "\u001b[1m> Finished chain.\u001b[0m\n"
          ]
        },
        {
          "output_type": "execute_result",
          "data": {
            "text/plain": [
              "\"Brazil won the FIFA World Cup in 1994! They defeated Italy in a penalty shootout after the game ended 0-0. This was Brazil's fourth World Cup title, making them the first country to achieve that feat. The tournament was held in the United States, and it was a huge event, breaking attendance records. Did you know that was the first World Cup to use the back-pass rule and three points for a win? ⚽🏆 \\n\""
            ],
            "application/vnd.google.colaboratory.intrinsic+json": {
              "type": "string"
            }
          },
          "metadata": {},
          "execution_count": 71
        }
      ]
    },
    {
      "cell_type": "code",
      "source": [
        "print(conversation.run(\" what is log 10 of 1000?\"))"
      ],
      "metadata": {
        "colab": {
          "base_uri": "https://localhost:8080/"
        },
        "id": "Q_e_Kp_Xi57y",
        "outputId": "2cd1f282-eed3-49b5-fa65-0a9d5afc736b"
      },
      "execution_count": 73,
      "outputs": [
        {
          "output_type": "stream",
          "name": "stdout",
          "text": [
            "\n",
            "\n",
            "\u001b[1m> Entering new ConversationChain chain...\u001b[0m\n",
            "Prompt after formatting:\n",
            "\u001b[32;1m\u001b[1;3mThe following is a friendly conversation between a human and an AI. The AI is talkative and provides lots of specific details from its context. If the AI does not know the answer to a question, it truthfully says it does not know.\n",
            "\n",
            "Current conversation:\n",
            "Human: Who won the FIFA World Cup in the year 1994?\n",
            "AI: Brazil won the FIFA World Cup in 1994! They defeated Italy in a penalty shootout after the game ended 0-0. This was Brazil's fourth World Cup title, making them the first country to achieve that feat. The tournament was held in the United States, and it was a huge event, breaking attendance records. Did you know that was the first World Cup to use the back-pass rule and three points for a win? ⚽🏆 \n",
            "\n",
            "Human:  what is log 10\n",
            "AI: AI:  log₁₀ refers to a logarithm with a base of 10.  It helps us figure out what power we need to raise 10 to in order to get a certain number.  \n",
            "\n",
            "For example: \n",
            "\n",
            "* log₁₀ 100 = 2 because 10 raised to the power of 2 (10²) equals 100. \n",
            "* log₁₀ 1000 = 3 because 10 cubed (10³) equals 1000.\n",
            "\n",
            "Do you want to try another example? 🤔 \n",
            "\n",
            "Human:  what is log 10 of 1000?\n",
            "AI:\u001b[0m\n",
            "\n",
            "\u001b[1m> Finished chain.\u001b[0m\n",
            "AI: You got it!  log₁₀ 1000 = 3 because 10 raised to the power of 3 (10³) equals 1000.  You're a natural at this! 👍 \n",
            "\n"
          ]
        }
      ]
    },
    {
      "cell_type": "code",
      "source": [
        "print(conversation.run(\"what should i add in prevoius equation to get a answer as 1\"))"
      ],
      "metadata": {
        "colab": {
          "base_uri": "https://localhost:8080/"
        },
        "id": "dxD7oZVFjE0r",
        "outputId": "018d53f1-290c-4730-890d-f93f3f835ffc"
      },
      "execution_count": 74,
      "outputs": [
        {
          "output_type": "stream",
          "name": "stdout",
          "text": [
            "\n",
            "\n",
            "\u001b[1m> Entering new ConversationChain chain...\u001b[0m\n",
            "Prompt after formatting:\n",
            "\u001b[32;1m\u001b[1;3mThe following is a friendly conversation between a human and an AI. The AI is talkative and provides lots of specific details from its context. If the AI does not know the answer to a question, it truthfully says it does not know.\n",
            "\n",
            "Current conversation:\n",
            "Human: Who won the FIFA World Cup in the year 1994?\n",
            "AI: Brazil won the FIFA World Cup in 1994! They defeated Italy in a penalty shootout after the game ended 0-0. This was Brazil's fourth World Cup title, making them the first country to achieve that feat. The tournament was held in the United States, and it was a huge event, breaking attendance records. Did you know that was the first World Cup to use the back-pass rule and three points for a win? ⚽🏆 \n",
            "\n",
            "Human:  what is log 10\n",
            "AI: AI:  log₁₀ refers to a logarithm with a base of 10.  It helps us figure out what power we need to raise 10 to in order to get a certain number.  \n",
            "\n",
            "For example: \n",
            "\n",
            "* log₁₀ 100 = 2 because 10 raised to the power of 2 (10²) equals 100. \n",
            "* log₁₀ 1000 = 3 because 10 cubed (10³) equals 1000.\n",
            "\n",
            "Do you want to try another example? 🤔 \n",
            "\n",
            "Human:  what is log 10 of 1000?\n",
            "AI: AI: You got it!  log₁₀ 1000 = 3 because 10 raised to the power of 3 (10³) equals 1000.  You're a natural at this! 👍 \n",
            "\n",
            "Human: what should i add in prevoius equation to get a answer as 1\n",
            "AI:\u001b[0m\n",
            "\n",
            "\u001b[1m> Finished chain.\u001b[0m\n",
            "AI:  That's a fun challenge!  Let's think about it. 🤔\n",
            "\n",
            "We want to find something to add to  log₁₀ 1000  to get an answer of 1.  \n",
            "\n",
            "Since log₁₀ 1000 = 3, we need to figure out what to add to 3 to get 1.  \n",
            "\n",
            "Mathematically, we're solving for *x* in this equation: 3 + *x* = 1\n",
            "\n",
            "Subtracting 3 from both sides, we get *x* = -2\n",
            "\n",
            "So, you would need to add **-2** to the previous equation to get an answer of 1. \n",
            "\n",
            "Let me know if you want to explore any other logarithmic puzzles! 🤓 \n",
            "\n"
          ]
        }
      ]
    },
    {
      "cell_type": "code",
      "source": [],
      "metadata": {
        "id": "6vPgVAcojZxk"
      },
      "execution_count": null,
      "outputs": []
    }
  ]
}