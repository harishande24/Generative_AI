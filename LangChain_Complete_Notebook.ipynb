{
  "nbformat": 4,
  "nbformat_minor": 0,
  "metadata": {
    "colab": {
      "provenance": []
    },
    "kernelspec": {
      "name": "python3",
      "display_name": "Python 3"
    },
    "language_info": {
      "name": "python"
    }
  },
  "cells": [
    {
      "cell_type": "code",
      "execution_count": 1,
      "metadata": {
        "colab": {
          "base_uri": "https://localhost:8080/"
        },
        "id": "IdAVRkQ8KTbi",
        "outputId": "39fb0513-025e-4726-9f19-368407e45471"
      },
      "outputs": [
        {
          "output_type": "stream",
          "name": "stdout",
          "text": [
            "Collecting langchain\n",
            "  Downloading langchain-0.2.11-py3-none-any.whl.metadata (7.1 kB)\n",
            "Requirement already satisfied: PyYAML>=5.3 in /usr/local/lib/python3.10/dist-packages (from langchain) (6.0.1)\n",
            "Requirement already satisfied: SQLAlchemy<3,>=1.4 in /usr/local/lib/python3.10/dist-packages (from langchain) (2.0.31)\n",
            "Requirement already satisfied: aiohttp<4.0.0,>=3.8.3 in /usr/local/lib/python3.10/dist-packages (from langchain) (3.9.5)\n",
            "Requirement already satisfied: async-timeout<5.0.0,>=4.0.0 in /usr/local/lib/python3.10/dist-packages (from langchain) (4.0.3)\n",
            "Collecting langchain-core<0.3.0,>=0.2.23 (from langchain)\n",
            "  Downloading langchain_core-0.2.26-py3-none-any.whl.metadata (6.2 kB)\n",
            "Collecting langchain-text-splitters<0.3.0,>=0.2.0 (from langchain)\n",
            "  Downloading langchain_text_splitters-0.2.2-py3-none-any.whl.metadata (2.1 kB)\n",
            "Collecting langsmith<0.2.0,>=0.1.17 (from langchain)\n",
            "  Downloading langsmith-0.1.95-py3-none-any.whl.metadata (13 kB)\n",
            "Requirement already satisfied: numpy<2,>=1 in /usr/local/lib/python3.10/dist-packages (from langchain) (1.26.4)\n",
            "Requirement already satisfied: pydantic<3,>=1 in /usr/local/lib/python3.10/dist-packages (from langchain) (2.8.2)\n",
            "Requirement already satisfied: requests<3,>=2 in /usr/local/lib/python3.10/dist-packages (from langchain) (2.31.0)\n",
            "Collecting tenacity!=8.4.0,<9.0.0,>=8.1.0 (from langchain)\n",
            "  Downloading tenacity-8.5.0-py3-none-any.whl.metadata (1.2 kB)\n",
            "Requirement already satisfied: aiosignal>=1.1.2 in /usr/local/lib/python3.10/dist-packages (from aiohttp<4.0.0,>=3.8.3->langchain) (1.3.1)\n",
            "Requirement already satisfied: attrs>=17.3.0 in /usr/local/lib/python3.10/dist-packages (from aiohttp<4.0.0,>=3.8.3->langchain) (23.2.0)\n",
            "Requirement already satisfied: frozenlist>=1.1.1 in /usr/local/lib/python3.10/dist-packages (from aiohttp<4.0.0,>=3.8.3->langchain) (1.4.1)\n",
            "Requirement already satisfied: multidict<7.0,>=4.5 in /usr/local/lib/python3.10/dist-packages (from aiohttp<4.0.0,>=3.8.3->langchain) (6.0.5)\n",
            "Requirement already satisfied: yarl<2.0,>=1.0 in /usr/local/lib/python3.10/dist-packages (from aiohttp<4.0.0,>=3.8.3->langchain) (1.9.4)\n",
            "Collecting jsonpatch<2.0,>=1.33 (from langchain-core<0.3.0,>=0.2.23->langchain)\n",
            "  Downloading jsonpatch-1.33-py2.py3-none-any.whl.metadata (3.0 kB)\n",
            "Requirement already satisfied: packaging<25,>=23.2 in /usr/local/lib/python3.10/dist-packages (from langchain-core<0.3.0,>=0.2.23->langchain) (24.1)\n",
            "Requirement already satisfied: typing-extensions>=4.7 in /usr/local/lib/python3.10/dist-packages (from langchain-core<0.3.0,>=0.2.23->langchain) (4.12.2)\n",
            "Collecting orjson<4.0.0,>=3.9.14 (from langsmith<0.2.0,>=0.1.17->langchain)\n",
            "  Downloading orjson-3.10.6-cp310-cp310-manylinux_2_17_x86_64.manylinux2014_x86_64.whl.metadata (50 kB)\n",
            "\u001b[2K     \u001b[90m━━━━━━━━━━━━━━━━━━━━━━━━━━━━━━━━━━━━━━━━\u001b[0m \u001b[32m50.4/50.4 kB\u001b[0m \u001b[31m584.8 kB/s\u001b[0m eta \u001b[36m0:00:00\u001b[0m\n",
            "\u001b[?25hRequirement already satisfied: annotated-types>=0.4.0 in /usr/local/lib/python3.10/dist-packages (from pydantic<3,>=1->langchain) (0.7.0)\n",
            "Requirement already satisfied: pydantic-core==2.20.1 in /usr/local/lib/python3.10/dist-packages (from pydantic<3,>=1->langchain) (2.20.1)\n",
            "Requirement already satisfied: charset-normalizer<4,>=2 in /usr/local/lib/python3.10/dist-packages (from requests<3,>=2->langchain) (3.3.2)\n",
            "Requirement already satisfied: idna<4,>=2.5 in /usr/local/lib/python3.10/dist-packages (from requests<3,>=2->langchain) (3.7)\n",
            "Requirement already satisfied: urllib3<3,>=1.21.1 in /usr/local/lib/python3.10/dist-packages (from requests<3,>=2->langchain) (2.0.7)\n",
            "Requirement already satisfied: certifi>=2017.4.17 in /usr/local/lib/python3.10/dist-packages (from requests<3,>=2->langchain) (2024.7.4)\n",
            "Requirement already satisfied: greenlet!=0.4.17 in /usr/local/lib/python3.10/dist-packages (from SQLAlchemy<3,>=1.4->langchain) (3.0.3)\n",
            "Collecting jsonpointer>=1.9 (from jsonpatch<2.0,>=1.33->langchain-core<0.3.0,>=0.2.23->langchain)\n",
            "  Downloading jsonpointer-3.0.0-py2.py3-none-any.whl.metadata (2.3 kB)\n",
            "Downloading langchain-0.2.11-py3-none-any.whl (990 kB)\n",
            "\u001b[2K   \u001b[90m━━━━━━━━━━━━━━━━━━━━━━━━━━━━━━━━━━━━━━━━\u001b[0m \u001b[32m990.3/990.3 kB\u001b[0m \u001b[31m15.3 MB/s\u001b[0m eta \u001b[36m0:00:00\u001b[0m\n",
            "\u001b[?25hDownloading langchain_core-0.2.26-py3-none-any.whl (378 kB)\n",
            "\u001b[2K   \u001b[90m━━━━━━━━━━━━━━━━━━━━━━━━━━━━━━━━━━━━━━━━\u001b[0m \u001b[32m378.9/378.9 kB\u001b[0m \u001b[31m19.5 MB/s\u001b[0m eta \u001b[36m0:00:00\u001b[0m\n",
            "\u001b[?25hDownloading langchain_text_splitters-0.2.2-py3-none-any.whl (25 kB)\n",
            "Downloading langsmith-0.1.95-py3-none-any.whl (275 kB)\n",
            "\u001b[2K   \u001b[90m━━━━━━━━━━━━━━━━━━━━━━━━━━━━━━━━━━━━━━━━\u001b[0m \u001b[32m275.8/275.8 kB\u001b[0m \u001b[31m17.8 MB/s\u001b[0m eta \u001b[36m0:00:00\u001b[0m\n",
            "\u001b[?25hDownloading tenacity-8.5.0-py3-none-any.whl (28 kB)\n",
            "Downloading jsonpatch-1.33-py2.py3-none-any.whl (12 kB)\n",
            "Downloading orjson-3.10.6-cp310-cp310-manylinux_2_17_x86_64.manylinux2014_x86_64.whl (141 kB)\n",
            "\u001b[2K   \u001b[90m━━━━━━━━━━━━━━━━━━━━━━━━━━━━━━━━━━━━━━━━\u001b[0m \u001b[32m141.1/141.1 kB\u001b[0m \u001b[31m9.4 MB/s\u001b[0m eta \u001b[36m0:00:00\u001b[0m\n",
            "\u001b[?25hDownloading jsonpointer-3.0.0-py2.py3-none-any.whl (7.6 kB)\n",
            "Installing collected packages: tenacity, orjson, jsonpointer, jsonpatch, langsmith, langchain-core, langchain-text-splitters, langchain\n",
            "  Attempting uninstall: tenacity\n",
            "    Found existing installation: tenacity 9.0.0\n",
            "    Uninstalling tenacity-9.0.0:\n",
            "      Successfully uninstalled tenacity-9.0.0\n",
            "Successfully installed jsonpatch-1.33 jsonpointer-3.0.0 langchain-0.2.11 langchain-core-0.2.26 langchain-text-splitters-0.2.2 langsmith-0.1.95 orjson-3.10.6 tenacity-8.5.0\n"
          ]
        }
      ],
      "source": [
        "!pip install langchain"
      ]
    },
    {
      "cell_type": "code",
      "source": [
        "!pip install --upgrade --quiet google-generativeai langchain-google-genai"
      ],
      "metadata": {
        "id": "9rJ3Hay5L4Si"
      },
      "execution_count": 4,
      "outputs": []
    },
    {
      "cell_type": "code",
      "source": [
        "import os\n",
        "from google.colab import userdata\n",
        "GOOGLE_API_KEY = userdata.get('GOOGLE_API_KEY')\n",
        "os.environ[\"GOOGLE_API_KEY\"] = userdata.get('GOOGLE_API_KEY')\n"
      ],
      "metadata": {
        "id": "aqR6nYR1OG9A"
      },
      "execution_count": 5,
      "outputs": []
    },
    {
      "cell_type": "code",
      "source": [
        "from langchain_google_genai import GoogleGenerativeAIEmbeddings\n",
        "gemini_embeddings = GoogleGenerativeAIEmbeddings(model = \"models/embedding-001\")"
      ],
      "metadata": {
        "id": "zjs3bJT_OlCM"
      },
      "execution_count": 6,
      "outputs": []
    },
    {
      "cell_type": "code",
      "source": [
        "from langchain_google_genai import ChatGoogleGenerativeAI\n",
        "llm = ChatGoogleGenerativeAI(model = \"gemini-1.5-pro\")\n",
        "result = llm.predict(\"Write a poem about India?\")\n",
        "print(result)"
      ],
      "metadata": {
        "colab": {
          "base_uri": "https://localhost:8080/"
        },
        "id": "-g0HBGApO2ua",
        "outputId": "0f5bed17-0f70-4ab3-d0d0-a7345830d02a"
      },
      "execution_count": 10,
      "outputs": [
        {
          "output_type": "stream",
          "name": "stdout",
          "text": [
            "From Himalayan peaks so grand,\n",
            "To Kerala's emerald strand,\n",
            "Stretches a land of vibrant hue,\n",
            "India, with stories old and new.\n",
            "\n",
            "The Ganges flows, a sacred stream,\n",
            "Reflecting faith's eternal gleam,\n",
            "While temples rise, majestic, bold,\n",
            "Whispering tales of times of old.\n",
            "\n",
            "Spice markets burst with fragrant air,\n",
            "Saffron, turmeric, ginger there,\n",
            "A symphony of sights and smells,\n",
            "Where ancient magic weaves its spells.\n",
            "\n",
            "Sari silks in rainbow bright,\n",
            "Dance beneath the moonlit night,\n",
            "Rhythms ancient, voices clear,\n",
            "Celebrating life, banishing fear.\n",
            "\n",
            "From bustling streets to rural farms,\n",
            "A tapestry of diverse charms,\n",
            "Where languages a hundredfold,\n",
            "In unity and grace unfold.\n",
            "\n",
            "Land of Gandhi, peace its creed,\n",
            "Where wisdom sows a hopeful seed,\n",
            "A nation rising, strong and free,\n",
            "India, a land for all to see. \n",
            "\n"
          ]
        }
      ]
    },
    {
      "cell_type": "code",
      "source": [
        "from langchain.prompts import PromptTemplate\n",
        "llm = ChatGoogleGenerativeAI(model = \"gemini-1.5-pro\")"
      ],
      "metadata": {
        "id": "Q9CB3DyJQIVU"
      },
      "execution_count": 11,
      "outputs": []
    },
    {
      "cell_type": "code",
      "source": [
        "from re import template\n",
        "prompt_template =  PromptTemplate(\n",
        "    input_variables = [\"cuisine\"],\n",
        "    template = \" I want to open a restaurant for {cuisine} food. Suggest a fancy name for this.\"\n",
        "\n",
        ")"
      ],
      "metadata": {
        "id": "WbGmb0X7QOHP"
      },
      "execution_count": 13,
      "outputs": []
    },
    {
      "cell_type": "code",
      "source": [
        "prompt = prompt_template.format(cuisine = \"Italian\")"
      ],
      "metadata": {
        "id": "ywjlmhu9SdrT"
      },
      "execution_count": 14,
      "outputs": []
    },
    {
      "cell_type": "code",
      "source": [
        "prompt"
      ],
      "metadata": {
        "colab": {
          "base_uri": "https://localhost:8080/",
          "height": 35
        },
        "id": "vvw-PMO5SkAc",
        "outputId": "92da3792-ab95-408e-fe1d-89b6f2649a47"
      },
      "execution_count": 15,
      "outputs": [
        {
          "output_type": "execute_result",
          "data": {
            "text/plain": [
              "' I want to open a restaurant for Italian food. Suggest a fancy name for this.'"
            ],
            "application/vnd.google.colaboratory.intrinsic+json": {
              "type": "string"
            }
          },
          "metadata": {},
          "execution_count": 15
        }
      ]
    },
    {
      "cell_type": "code",
      "source": [
        "prompt2 = PromptTemplate.from_template(\"What is a good name for a company that makes {product}?\")"
      ],
      "metadata": {
        "id": "G13DD0iPSk7H"
      },
      "execution_count": 16,
      "outputs": []
    },
    {
      "cell_type": "code",
      "source": [
        "prompt2.format(product = \"colorful socks\")"
      ],
      "metadata": {
        "colab": {
          "base_uri": "https://localhost:8080/",
          "height": 35
        },
        "id": "h1Zaza-hUM2i",
        "outputId": "ad0304a3-1099-4b34-96e7-43882c824ae2"
      },
      "execution_count": 17,
      "outputs": [
        {
          "output_type": "execute_result",
          "data": {
            "text/plain": [
              "'What is a good name for a company that makes colorful socks?'"
            ],
            "application/vnd.google.colaboratory.intrinsic+json": {
              "type": "string"
            }
          },
          "metadata": {},
          "execution_count": 17
        }
      ]
    },
    {
      "cell_type": "code",
      "source": [
        "from langchain.chains import LLMChain\n",
        "chain = LLMChain(llm = llm, prompt = prompt2)"
      ],
      "metadata": {
        "colab": {
          "base_uri": "https://localhost:8080/"
        },
        "id": "CjK8s0bnUUjL",
        "outputId": "a53bfcf2-0fa2-4783-a238-bb6314d064b1"
      },
      "execution_count": 18,
      "outputs": [
        {
          "output_type": "stream",
          "name": "stderr",
          "text": [
            "/usr/local/lib/python3.10/dist-packages/langchain_core/_api/deprecation.py:139: LangChainDeprecationWarning: The class `LLMChain` was deprecated in LangChain 0.1.17 and will be removed in 1.0. Use RunnableSequence, e.g., `prompt | llm` instead.\n",
            "  warn_deprecated(\n"
          ]
        }
      ]
    },
    {
      "cell_type": "code",
      "source": [
        "print(chain.run(\"colorful socks\"))"
      ],
      "metadata": {
        "colab": {
          "base_uri": "https://localhost:8080/"
        },
        "id": "Lc9cbcSdUmYp",
        "outputId": "448b5e66-5e56-49af-9407-9c54cc7aba7a"
      },
      "execution_count": 20,
      "outputs": [
        {
          "output_type": "stream",
          "name": "stdout",
          "text": [
            "Here are some good names for a company that makes colorful socks, playing on themes of color, fun, and uniqueness:\n",
            "\n",
            "**Catchy & Creative:**\n",
            "\n",
            "* Socksplosion\n",
            "* Chroma Crew\n",
            "* Hue Knew It\n",
            "* Sole Mates\n",
            "* The Happy Sock Co.\n",
            "* Rainbow Riders\n",
            "* Footloose & Fancy-Free Socks\n",
            "* Pattern Play\n",
            "* Bold Soles\n",
            "* The Sock Drawer Revolution\n",
            "\n",
            "**Sophisticated & Playful:**\n",
            "\n",
            "* Spectrum & Stitch\n",
            "* The Colorful Sock Club\n",
            "* Vivid Threads\n",
            "* Eclectic Soles\n",
            "* The Artful Foot\n",
            "* Quirky Toes\n",
            "* Mismatched Magic\n",
            "\n",
            "**Descriptive:**\n",
            "\n",
            "* Bright & Bold Socks\n",
            "* The Colorful Sock Boutique\n",
            "* Fun & Funky Footwear\n",
            "* Unique & Colorful Socks\n",
            "\n",
            "**Tips for Choosing a Name:**\n",
            "\n",
            "* **Keep it short and memorable.**\n",
            "* **Make sure it's easy to pronounce and spell.**\n",
            "* **Consider your target audience.**\n",
            "* **Check for trademark availability.**\n",
            "* **Get feedback from others.**\n",
            "\n",
            "Ultimately, the best name for your company will be one that you love and that resonates with your brand identity. \n",
            "\n"
          ]
        }
      ]
    },
    {
      "cell_type": "code",
      "source": [
        "prompt_template1 =  PromptTemplate(\n",
        "    input_variables = [\"cuisine\"],\n",
        "    template = \" I want to open a restaurant for {cuisine} food. Suggest a fancy name for this.\"\n",
        "\n",
        ")"
      ],
      "metadata": {
        "id": "_PiMP0LBVcG7"
      },
      "execution_count": 21,
      "outputs": []
    },
    {
      "cell_type": "code",
      "source": [
        "chain = LLMChain(llm = llm, prompt = prompt_template1)"
      ],
      "metadata": {
        "id": "ioMbaXbZVmin"
      },
      "execution_count": 22,
      "outputs": []
    },
    {
      "cell_type": "code",
      "source": [
        "response = chain.run(\"Indian\")"
      ],
      "metadata": {
        "id": "CuZd6B3SVpYJ"
      },
      "execution_count": 24,
      "outputs": []
    },
    {
      "cell_type": "code",
      "source": [
        "print(response)"
      ],
      "metadata": {
        "colab": {
          "base_uri": "https://localhost:8080/"
        },
        "id": "plYYvA-GVr6J",
        "outputId": "546becad-91c7-49a0-80d6-b37b43d84ed7"
      },
      "execution_count": 25,
      "outputs": [
        {
          "output_type": "stream",
          "name": "stdout",
          "text": [
            "Here are some fancy name ideas for an Indian restaurant, playing with different vibes:\n",
            "\n",
            "**Elegant & Evocative:**\n",
            "\n",
            "* **Amritsar Spice** (referencing a city famous for its food)\n",
            "* **The Saffron Table** (saffron is a luxurious spice)\n",
            "* **Moksha Dining** (Moksha is liberation in Hinduism, implying a transcendent experience)\n",
            "* **Raj Mahal** (King's Palace, evokes royalty)\n",
            "* **Chandni Chowk** (a famous food street in Delhi)\n",
            "* **Indus Bloom** (combining the river Indus with the beauty of Indian cuisine)\n",
            "\n",
            "**Modern & Chic:**\n",
            "\n",
            "* **Masala & Mint** (short, catchy, and hints at fresh flavors)\n",
            "* **The Curry Leaf** (simple, elegant, and essential to Indian cooking)\n",
            "* **Tandoor Nights** (evokes the image of a lively atmosphere and the smoky flavor of a tandoor oven)\n",
            "* **Spice Route Bistro** (a modern take on the historical spice trade)\n",
            "* **Bombay Bazaar Kitchen** (evokes a bustling marketplace and diverse offerings)\n",
            "\n",
            "**Playful & Unique:**\n",
            "\n",
            "* **Naanstop** (a play on words, referencing the popular bread)\n",
            "* **Tikka Chance on Me** (a fun twist on a popular dish)\n",
            "* **Curry Up & Wait** (whimsical and memorable)\n",
            "* **The Butter Chicken Club** (a playful take on an exclusive club)\n",
            "\n",
            "**Tips for Choosing the Perfect Name:**\n",
            "\n",
            "* **Target Audience:** Consider who you want to attract (families, couples, young professionals).\n",
            "* **Location:** Does the name fit the neighborhood and vibe of your restaurant?\n",
            "* **Availability:** Check if the name is available as a website domain and for social media handles.\n",
            "* **Memorability:** Choose a name that's easy to remember and pronounce.\n",
            "\n",
            "Good luck with your new restaurant! \n",
            "\n"
          ]
        }
      ]
    },
    {
      "cell_type": "code",
      "source": [
        "prompt_template_name =  PromptTemplate(\n",
        "    input_variables = [\"cuisine\"],\n",
        "    template = \" I want to open a restaurant for {cuisine} food. Suggest a fancy name for this.\"\n",
        "\n",
        ")"
      ],
      "metadata": {
        "id": "Bofz86XjV6t1"
      },
      "execution_count": 26,
      "outputs": []
    },
    {
      "cell_type": "code",
      "source": [
        "chain = LLMChain(llm = llm, prompt = prompt_template_name, output_key = \"restaurant_name\")"
      ],
      "metadata": {
        "id": "lSQ2OnDxWP8R"
      },
      "execution_count": 28,
      "outputs": []
    },
    {
      "cell_type": "code",
      "source": [
        "prompt_template_items =  PromptTemplate(\n",
        "    input_variables = [\"restaurant_name\"],\n",
        "    template = \"Suggest some menu items for {restaurant_name}. Return it as a comma separated string\"\n",
        "\n",
        ")"
      ],
      "metadata": {
        "id": "J8Z17q_KWcVx"
      },
      "execution_count": 29,
      "outputs": []
    },
    {
      "cell_type": "code",
      "source": [
        "food_items_chain = LLMChain(llm = llm, prompt = prompt_template_items, output_key = \"menu_items\")"
      ],
      "metadata": {
        "id": "k8Nf0pGnWoqh"
      },
      "execution_count": 30,
      "outputs": []
    },
    {
      "cell_type": "code",
      "source": [
        "from langchain.chains import SequentialChain\n",
        "chain = SequentialChain(\n",
        "    chains = [chain, food_items_chain],\n",
        "    input_variables = [\"cuisine\"],\n",
        "    output_variables = [\"restaurant_name\", \"menu_items\"]\n",
        ")"
      ],
      "metadata": {
        "id": "CUpdSAPsWpDt"
      },
      "execution_count": 31,
      "outputs": []
    },
    {
      "cell_type": "code",
      "source": [
        "print(chain({\"cuisine\" : \"Indian\"}))"
      ],
      "metadata": {
        "colab": {
          "base_uri": "https://localhost:8080/"
        },
        "id": "iaR-lZ7mWxE4",
        "outputId": "fb68ee76-f81b-4b93-a9bf-ea4fe7ea46fe"
      },
      "execution_count": 33,
      "outputs": [
        {
          "output_type": "stream",
          "name": "stderr",
          "text": [
            "/usr/local/lib/python3.10/dist-packages/langchain_core/_api/deprecation.py:139: LangChainDeprecationWarning: The method `Chain.__call__` was deprecated in langchain 0.1.0 and will be removed in 0.3.0. Use invoke instead.\n",
            "  warn_deprecated(\n",
            "WARNING:langchain_google_genai.chat_models:Retrying langchain_google_genai.chat_models._chat_with_retry.<locals>._chat_with_retry in 2.0 seconds as it raised InternalServerError: 500 An internal error has occurred. Please retry or report in https://developers.generativeai.google/guide/troubleshooting.\n"
          ]
        },
        {
          "output_type": "stream",
          "name": "stdout",
          "text": [
            "{'cuisine': 'Indian', 'restaurant_name': 'Here are some fancy name ideas for an Indian restaurant, playing with different vibes:\\n\\n**Elegant & Evocative:**\\n\\n* **Amara** (meaning \"immortal\" or \"deathless\" in Sanskrit)\\n* **Chandni** (meaning \"moonlight\" in Hindi)\\n* **Rani Mahal** (meaning \"Queen\\'s Palace\" in Hindi)\\n* **Spice Route** (evokes the history of Indian spice trade)\\n* **Indus** (after the Indus River Valley Civilization)\\n* **Mysore** (a city in India known for its palaces and gardens)\\n* **Jaipur** (a city in India known as the \"Pink City\")\\n* **Avani** (meaning \"earth\" in Sanskrit)\\n\\n**Modern & Chic:**\\n\\n* **Masala & Mint**\\n* **Tandoor Nights**\\n* **Saffron & Silk**\\n* **Urban Curry**\\n* **The Spice Merchant**\\n* **Chai & Co.**\\n* **Bombay Bungalow**\\n* **Delhi Darbar**\\n\\n**Playful & Unique:**\\n\\n* **Naanstop**\\n* **Curry Up Now!**\\n* **Tikka Chance on Me**\\n* **The Butter Chicken Club**\\n* **Spice Odyssey**\\n* **Flavors of India**\\n\\n**Tips for Choosing a Name:**\\n\\n* **Keep it short and memorable.**\\n* **Make sure it\\'s easy to pronounce.**\\n* **Consider your target audience.**\\n* **Check for trademark availability.**\\n* **Get feedback from others.**\\n\\nOnce you have a few names you like, try them out on friends and family to see which ones resonate the most. Good luck! \\n', 'menu_items': 'Please provide me with the name of the restaurant so I can suggest a fitting menu. 😉 \\n'}\n"
          ]
        }
      ]
    },
    {
      "cell_type": "code",
      "source": [
        "response = chain({\"cuisine\" : \"Indian\"})"
      ],
      "metadata": {
        "id": "qziB4cPyWzvM"
      },
      "execution_count": 34,
      "outputs": []
    },
    {
      "cell_type": "code",
      "source": [
        "for key in response.keys():\n",
        "  print(key, response[key])\n",
        "  print(30*\"=\")"
      ],
      "metadata": {
        "colab": {
          "base_uri": "https://localhost:8080/"
        },
        "id": "LQMlYpMUXAkm",
        "outputId": "210a240a-7b02-4f0e-f801-c75dde754e66"
      },
      "execution_count": 36,
      "outputs": [
        {
          "output_type": "stream",
          "name": "stdout",
          "text": [
            "cuisine Indian\n",
            "==============================\n",
            "restaurant_name Here are some fancy name ideas for your Indian restaurant, playing with different styles and themes:\n",
            "\n",
            "**Elegant & Evocative:**\n",
            "\n",
            "* **Amara Tandoor** (Amara means \"eternal\" or \"immortal\" in Sanskrit)\n",
            "* **The Saffron Silk**\n",
            "* **Chandni Chowk** (A famous food street in Delhi)\n",
            "* **Jewel of India** \n",
            "* **Spice Route Bistro**\n",
            "* **Monsoon Palace**\n",
            "* **The Taj Dining Room**\n",
            "* **Indus Valley Kitchen**\n",
            "* **The Peacock's Plume**\n",
            "\n",
            "**Modern & Chic:**\n",
            "\n",
            "* **Masala & Mint**\n",
            "* **Tandoor + Thyme**\n",
            "* **Chutney Modern**\n",
            "* **The Curry Leaf**\n",
            "* **Spice Market Kitchen**\n",
            "* **Bombay Bungalow**\n",
            "* **Delhi Darbar** (Darbar means \"court\" - implies royalty)\n",
            "\n",
            "**Playful & Unique:**\n",
            "\n",
            "* **NaanSense**\n",
            "* **Tikka Chance On Me**\n",
            "* **Curry Up Now** \n",
            "* **The Hungry Maharaja** \n",
            "* **Butter Chicken Society**\n",
            "\n",
            "**Location Specific (if applicable):**\n",
            "\n",
            "* **[Your City] Tandoori**\n",
            "* **The Spice Merchant of [Your Neighborhood]**\n",
            "\n",
            "**Tips for Choosing the Perfect Name:**\n",
            "\n",
            "* **Consider your target audience:** Who are you trying to attract? \n",
            "* **Keep it concise and memorable:**  Shorter names are often easier to remember.\n",
            "* **Check for domain availability:** Make sure the name is available for a website and social media.\n",
            "* **Get feedback:**  Ask friends and family for their opinions.\n",
            "\n",
            "I hope this list inspires you to find the perfect fancy name for your Indian restaurant!  Good luck! \n",
            "\n",
            "==============================\n",
            "menu_items That's an impressive list of restaurant names! However, I need you to tell me what kind of menu items you'd like suggestions for.  For example:\n",
            "\n",
            "* **Specific dishes:**  Appetizers, vegetarian mains, seafood curries, etc.\n",
            "* **Cuisine style:** North Indian, South Indian, fusion, street food, etc.\n",
            "* **Price point:** Budget-friendly, mid-range, fine dining.\n",
            "\n",
            "Once you give me more information about the food, I can suggest some delicious and fitting menu items. 😊 \n",
            "\n",
            "==============================\n"
          ]
        }
      ]
    },
    {
      "cell_type": "code",
      "source": [
        "!pip install google-search-results"
      ],
      "metadata": {
        "colab": {
          "base_uri": "https://localhost:8080/"
        },
        "id": "97x0kll4YYd7",
        "outputId": "a0948f17-42b8-49d5-b86f-b13f85daaf13"
      },
      "execution_count": 37,
      "outputs": [
        {
          "output_type": "stream",
          "name": "stdout",
          "text": [
            "Collecting google-search-results\n",
            "  Downloading google_search_results-2.4.2.tar.gz (18 kB)\n",
            "  Preparing metadata (setup.py) ... \u001b[?25l\u001b[?25hdone\n",
            "Requirement already satisfied: requests in /usr/local/lib/python3.10/dist-packages (from google-search-results) (2.31.0)\n",
            "Requirement already satisfied: charset-normalizer<4,>=2 in /usr/local/lib/python3.10/dist-packages (from requests->google-search-results) (3.3.2)\n",
            "Requirement already satisfied: idna<4,>=2.5 in /usr/local/lib/python3.10/dist-packages (from requests->google-search-results) (3.7)\n",
            "Requirement already satisfied: urllib3<3,>=1.21.1 in /usr/local/lib/python3.10/dist-packages (from requests->google-search-results) (2.0.7)\n",
            "Requirement already satisfied: certifi>=2017.4.17 in /usr/local/lib/python3.10/dist-packages (from requests->google-search-results) (2024.7.4)\n",
            "Building wheels for collected packages: google-search-results\n",
            "  Building wheel for google-search-results (setup.py) ... \u001b[?25l\u001b[?25hdone\n",
            "  Created wheel for google-search-results: filename=google_search_results-2.4.2-py3-none-any.whl size=32010 sha256=1ee87514294d9d6cc6a8110e903ff4073a1e6df2a11edacad0a2e76afd62cbe4\n",
            "  Stored in directory: /root/.cache/pip/wheels/d3/b2/c3/03302d12bb44a2cdff3c9371f31b72c0c4e84b8d2285eeac53\n",
            "Successfully built google-search-results\n",
            "Installing collected packages: google-search-results\n",
            "Successfully installed google-search-results-2.4.2\n"
          ]
        }
      ]
    },
    {
      "cell_type": "code",
      "source": [
        "pip install -U langchain-community"
      ],
      "metadata": {
        "colab": {
          "base_uri": "https://localhost:8080/"
        },
        "id": "Fe_iOsVdcEuy",
        "outputId": "811298a5-a7c1-4479-d072-f147f0c44ec1"
      },
      "execution_count": 39,
      "outputs": [
        {
          "output_type": "stream",
          "name": "stdout",
          "text": [
            "Collecting langchain-community\n",
            "  Downloading langchain_community-0.2.10-py3-none-any.whl.metadata (2.7 kB)\n",
            "Requirement already satisfied: PyYAML>=5.3 in /usr/local/lib/python3.10/dist-packages (from langchain-community) (6.0.1)\n",
            "Requirement already satisfied: SQLAlchemy<3,>=1.4 in /usr/local/lib/python3.10/dist-packages (from langchain-community) (2.0.31)\n",
            "Requirement already satisfied: aiohttp<4.0.0,>=3.8.3 in /usr/local/lib/python3.10/dist-packages (from langchain-community) (3.9.5)\n",
            "Collecting dataclasses-json<0.7,>=0.5.7 (from langchain-community)\n",
            "  Downloading dataclasses_json-0.6.7-py3-none-any.whl.metadata (25 kB)\n",
            "Requirement already satisfied: langchain<0.3.0,>=0.2.9 in /usr/local/lib/python3.10/dist-packages (from langchain-community) (0.2.11)\n",
            "Requirement already satisfied: langchain-core<0.3.0,>=0.2.23 in /usr/local/lib/python3.10/dist-packages (from langchain-community) (0.2.26)\n",
            "Requirement already satisfied: langsmith<0.2.0,>=0.1.0 in /usr/local/lib/python3.10/dist-packages (from langchain-community) (0.1.95)\n",
            "Requirement already satisfied: numpy<2,>=1 in /usr/local/lib/python3.10/dist-packages (from langchain-community) (1.26.4)\n",
            "Requirement already satisfied: requests<3,>=2 in /usr/local/lib/python3.10/dist-packages (from langchain-community) (2.31.0)\n",
            "Requirement already satisfied: tenacity!=8.4.0,<9.0.0,>=8.1.0 in /usr/local/lib/python3.10/dist-packages (from langchain-community) (8.5.0)\n",
            "Requirement already satisfied: aiosignal>=1.1.2 in /usr/local/lib/python3.10/dist-packages (from aiohttp<4.0.0,>=3.8.3->langchain-community) (1.3.1)\n",
            "Requirement already satisfied: attrs>=17.3.0 in /usr/local/lib/python3.10/dist-packages (from aiohttp<4.0.0,>=3.8.3->langchain-community) (23.2.0)\n",
            "Requirement already satisfied: frozenlist>=1.1.1 in /usr/local/lib/python3.10/dist-packages (from aiohttp<4.0.0,>=3.8.3->langchain-community) (1.4.1)\n",
            "Requirement already satisfied: multidict<7.0,>=4.5 in /usr/local/lib/python3.10/dist-packages (from aiohttp<4.0.0,>=3.8.3->langchain-community) (6.0.5)\n",
            "Requirement already satisfied: yarl<2.0,>=1.0 in /usr/local/lib/python3.10/dist-packages (from aiohttp<4.0.0,>=3.8.3->langchain-community) (1.9.4)\n",
            "Requirement already satisfied: async-timeout<5.0,>=4.0 in /usr/local/lib/python3.10/dist-packages (from aiohttp<4.0.0,>=3.8.3->langchain-community) (4.0.3)\n",
            "Collecting marshmallow<4.0.0,>=3.18.0 (from dataclasses-json<0.7,>=0.5.7->langchain-community)\n",
            "  Downloading marshmallow-3.21.3-py3-none-any.whl.metadata (7.1 kB)\n",
            "Collecting typing-inspect<1,>=0.4.0 (from dataclasses-json<0.7,>=0.5.7->langchain-community)\n",
            "  Downloading typing_inspect-0.9.0-py3-none-any.whl.metadata (1.5 kB)\n",
            "Requirement already satisfied: langchain-text-splitters<0.3.0,>=0.2.0 in /usr/local/lib/python3.10/dist-packages (from langchain<0.3.0,>=0.2.9->langchain-community) (0.2.2)\n",
            "Requirement already satisfied: pydantic<3,>=1 in /usr/local/lib/python3.10/dist-packages (from langchain<0.3.0,>=0.2.9->langchain-community) (2.8.2)\n",
            "Requirement already satisfied: jsonpatch<2.0,>=1.33 in /usr/local/lib/python3.10/dist-packages (from langchain-core<0.3.0,>=0.2.23->langchain-community) (1.33)\n",
            "Requirement already satisfied: packaging<25,>=23.2 in /usr/local/lib/python3.10/dist-packages (from langchain-core<0.3.0,>=0.2.23->langchain-community) (24.1)\n",
            "Requirement already satisfied: typing-extensions>=4.7 in /usr/local/lib/python3.10/dist-packages (from langchain-core<0.3.0,>=0.2.23->langchain-community) (4.12.2)\n",
            "Requirement already satisfied: orjson<4.0.0,>=3.9.14 in /usr/local/lib/python3.10/dist-packages (from langsmith<0.2.0,>=0.1.0->langchain-community) (3.10.6)\n",
            "Requirement already satisfied: charset-normalizer<4,>=2 in /usr/local/lib/python3.10/dist-packages (from requests<3,>=2->langchain-community) (3.3.2)\n",
            "Requirement already satisfied: idna<4,>=2.5 in /usr/local/lib/python3.10/dist-packages (from requests<3,>=2->langchain-community) (3.7)\n",
            "Requirement already satisfied: urllib3<3,>=1.21.1 in /usr/local/lib/python3.10/dist-packages (from requests<3,>=2->langchain-community) (2.0.7)\n",
            "Requirement already satisfied: certifi>=2017.4.17 in /usr/local/lib/python3.10/dist-packages (from requests<3,>=2->langchain-community) (2024.7.4)\n",
            "Requirement already satisfied: greenlet!=0.4.17 in /usr/local/lib/python3.10/dist-packages (from SQLAlchemy<3,>=1.4->langchain-community) (3.0.3)\n",
            "Requirement already satisfied: jsonpointer>=1.9 in /usr/local/lib/python3.10/dist-packages (from jsonpatch<2.0,>=1.33->langchain-core<0.3.0,>=0.2.23->langchain-community) (3.0.0)\n",
            "Requirement already satisfied: annotated-types>=0.4.0 in /usr/local/lib/python3.10/dist-packages (from pydantic<3,>=1->langchain<0.3.0,>=0.2.9->langchain-community) (0.7.0)\n",
            "Requirement already satisfied: pydantic-core==2.20.1 in /usr/local/lib/python3.10/dist-packages (from pydantic<3,>=1->langchain<0.3.0,>=0.2.9->langchain-community) (2.20.1)\n",
            "Collecting mypy-extensions>=0.3.0 (from typing-inspect<1,>=0.4.0->dataclasses-json<0.7,>=0.5.7->langchain-community)\n",
            "  Downloading mypy_extensions-1.0.0-py3-none-any.whl.metadata (1.1 kB)\n",
            "Downloading langchain_community-0.2.10-py3-none-any.whl (2.3 MB)\n",
            "\u001b[2K   \u001b[90m━━━━━━━━━━━━━━━━━━━━━━━━━━━━━━━━━━━━━━━━\u001b[0m \u001b[32m2.3/2.3 MB\u001b[0m \u001b[31m26.4 MB/s\u001b[0m eta \u001b[36m0:00:00\u001b[0m\n",
            "\u001b[?25hDownloading dataclasses_json-0.6.7-py3-none-any.whl (28 kB)\n",
            "Downloading marshmallow-3.21.3-py3-none-any.whl (49 kB)\n",
            "\u001b[2K   \u001b[90m━━━━━━━━━━━━━━━━━━━━━━━━━━━━━━━━━━━━━━━━\u001b[0m \u001b[32m49.2/49.2 kB\u001b[0m \u001b[31m3.2 MB/s\u001b[0m eta \u001b[36m0:00:00\u001b[0m\n",
            "\u001b[?25hDownloading typing_inspect-0.9.0-py3-none-any.whl (8.8 kB)\n",
            "Downloading mypy_extensions-1.0.0-py3-none-any.whl (4.7 kB)\n",
            "Installing collected packages: mypy-extensions, marshmallow, typing-inspect, dataclasses-json, langchain-community\n",
            "Successfully installed dataclasses-json-0.6.7 langchain-community-0.2.10 marshmallow-3.21.3 mypy-extensions-1.0.0 typing-inspect-0.9.0\n"
          ]
        }
      ]
    },
    {
      "cell_type": "code",
      "source": [
        "from langchain.agents import load_tools\n",
        "from langchain.agents import initialize_agent\n",
        "from langchain.agents import AgentType"
      ],
      "metadata": {
        "id": "Zw4n1U9Pb_qC"
      },
      "execution_count": 40,
      "outputs": []
    },
    {
      "cell_type": "code",
      "source": [
        "tools = load_tools([\"serpapi\", \"llm-math\"], llm = llm)"
      ],
      "metadata": {
        "id": "ZQ8zdc4CcT_T"
      },
      "execution_count": 45,
      "outputs": []
    },
    {
      "cell_type": "code",
      "source": [
        "os.environ[\"SERPAPI_API_KEY\"] = userdata.get('SERPAPI_API_KEY')"
      ],
      "metadata": {
        "id": "kousTwTRcUWp"
      },
      "execution_count": 43,
      "outputs": []
    },
    {
      "cell_type": "code",
      "source": [
        "agent = initialize_agent(tools, llm, agent = AgentType.ZERO_SHOT_REACT_DESCRIPTION, verbose = True)"
      ],
      "metadata": {
        "colab": {
          "base_uri": "https://localhost:8080/"
        },
        "id": "hfP3uPZLeC0k",
        "outputId": "c9d9b1c3-9281-42bd-8456-34efa2f792c2"
      },
      "execution_count": 46,
      "outputs": [
        {
          "output_type": "stream",
          "name": "stderr",
          "text": [
            "/usr/local/lib/python3.10/dist-packages/langchain_core/_api/deprecation.py:139: LangChainDeprecationWarning: The function `initialize_agent` was deprecated in LangChain 0.1.0 and will be removed in 0.3.0. Use Use new agent constructor methods like create_react_agent, create_json_agent, create_structured_chat_agent, etc. instead.\n",
            "  warn_deprecated(\n"
          ]
        }
      ]
    },
    {
      "cell_type": "code",
      "source": [
        "agent.run(\"Who is the current leader of USA?\")"
      ],
      "metadata": {
        "colab": {
          "base_uri": "https://localhost:8080/",
          "height": 243
        },
        "id": "KVnQk8odeHjy",
        "outputId": "ce2de4cc-0c28-4586-ca57-1306ca90fc50"
      },
      "execution_count": 51,
      "outputs": [
        {
          "output_type": "stream",
          "name": "stdout",
          "text": [
            "\n",
            "\n",
            "\u001b[1m> Entering new AgentExecutor chain...\u001b[0m\n",
            "\u001b[32;1m\u001b[1;3mThought: I need to search for the current leader of the USA.\n",
            "Action: Search\n",
            "Action Input: current leader of USA\u001b[0m\n",
            "Observation: \u001b[36;1m\u001b[1;3mPresident Joseph R. Biden is the 46th President of the United States.\u001b[0m\n",
            "Thought:\u001b[32;1m\u001b[1;3mThought: I now know the answer.\n",
            "Final Answer: Joe Biden is the current leader of the USA. \n",
            "\u001b[0m\n",
            "\n",
            "\u001b[1m> Finished chain.\u001b[0m\n"
          ]
        },
        {
          "output_type": "execute_result",
          "data": {
            "text/plain": [
              "'Joe Biden is the current leader of the USA.'"
            ],
            "application/vnd.google.colaboratory.intrinsic+json": {
              "type": "string"
            }
          },
          "metadata": {},
          "execution_count": 51
        }
      ]
    },
    {
      "cell_type": "code",
      "source": [
        "!pip install wikipedia"
      ],
      "metadata": {
        "colab": {
          "base_uri": "https://localhost:8080/"
        },
        "id": "TuX91qBkeLjP",
        "outputId": "226f4163-5a44-4e0d-e081-1f460b7f964f"
      },
      "execution_count": 52,
      "outputs": [
        {
          "output_type": "stream",
          "name": "stdout",
          "text": [
            "Collecting wikipedia\n",
            "  Downloading wikipedia-1.4.0.tar.gz (27 kB)\n",
            "  Preparing metadata (setup.py) ... \u001b[?25l\u001b[?25hdone\n",
            "Requirement already satisfied: beautifulsoup4 in /usr/local/lib/python3.10/dist-packages (from wikipedia) (4.12.3)\n",
            "Requirement already satisfied: requests<3.0.0,>=2.0.0 in /usr/local/lib/python3.10/dist-packages (from wikipedia) (2.31.0)\n",
            "Requirement already satisfied: charset-normalizer<4,>=2 in /usr/local/lib/python3.10/dist-packages (from requests<3.0.0,>=2.0.0->wikipedia) (3.3.2)\n",
            "Requirement already satisfied: idna<4,>=2.5 in /usr/local/lib/python3.10/dist-packages (from requests<3.0.0,>=2.0.0->wikipedia) (3.7)\n",
            "Requirement already satisfied: urllib3<3,>=1.21.1 in /usr/local/lib/python3.10/dist-packages (from requests<3.0.0,>=2.0.0->wikipedia) (2.0.7)\n",
            "Requirement already satisfied: certifi>=2017.4.17 in /usr/local/lib/python3.10/dist-packages (from requests<3.0.0,>=2.0.0->wikipedia) (2024.7.4)\n",
            "Requirement already satisfied: soupsieve>1.2 in /usr/local/lib/python3.10/dist-packages (from beautifulsoup4->wikipedia) (2.5)\n",
            "Building wheels for collected packages: wikipedia\n",
            "  Building wheel for wikipedia (setup.py) ... \u001b[?25l\u001b[?25hdone\n",
            "  Created wheel for wikipedia: filename=wikipedia-1.4.0-py3-none-any.whl size=11680 sha256=43d2e72a5ceb14243fd2acf4a617c2218878b5dde3feca9c5efe504909273664\n",
            "  Stored in directory: /root/.cache/pip/wheels/5e/b6/c5/93f3dec388ae76edc830cb42901bb0232504dfc0df02fc50de\n",
            "Successfully built wikipedia\n",
            "Installing collected packages: wikipedia\n",
            "Successfully installed wikipedia-1.4.0\n"
          ]
        }
      ]
    },
    {
      "cell_type": "code",
      "source": [
        "tools = load_tools([\"serpapi\", \"llm-math\", \"wikipedia\"], llm = llm)"
      ],
      "metadata": {
        "id": "xYfh_xFde-SK"
      },
      "execution_count": 53,
      "outputs": []
    },
    {
      "cell_type": "code",
      "source": [
        "agent = initialize_agent(tools, llm, agent = AgentType.ZERO_SHOT_REACT_DESCRIPTION, verbose = True)"
      ],
      "metadata": {
        "id": "mOcFrs6BfC6K"
      },
      "execution_count": 54,
      "outputs": []
    },
    {
      "cell_type": "code",
      "source": [
        "agent.run(\"Who is the current leader of Sri Lanka\")\n"
      ],
      "metadata": {
        "colab": {
          "base_uri": "https://localhost:8080/",
          "height": 697
        },
        "id": "jaHTGOhIfI6n",
        "outputId": "e4fcdfb1-08f6-4826-e8b0-e47fd56abf4d"
      },
      "execution_count": 58,
      "outputs": [
        {
          "output_type": "stream",
          "name": "stdout",
          "text": [
            "\n",
            "\n",
            "\u001b[1m> Entering new AgentExecutor chain...\u001b[0m\n",
            "\u001b[32;1m\u001b[1;3mThought: I should use wikipedia to find information about the leader of Sri Lanka.\n",
            "Action: wikipedia\n",
            "Action Input: Leader of Sri Lanka\u001b[0m\n",
            "Observation: \u001b[38;5;200m\u001b[1;3mPage: Leader of the Opposition (Sri Lanka)\n",
            "Summary: In Sri Lanka, the Leader of the Opposition is the leader of the largest political party in Parliament that is not a part of the government. This is usually the leader of the second-largest party in Parliament.\n",
            "Leader of the Samagi Jana Balawegaya Sajith Premadasa has been the incumbent Leader of the Opposition in the Parliament since 3 January 2020. He was officially sworn in on 20 August 2020, after the Speaker announced his appointment in parliament.\n",
            "\n",
            "Page: Sri Lankan Civil War\n",
            "Summary: The Sri Lankan Civil War (Sinhala: ශ්‍රී ලංකාවේ සිවිල් යුද්ධය, romanized: śrī laṁkāvē sivil yuddhaya; Tamil: இலங்கை உள்நாட்டுப் போர், romanized: Ilaṅkai uḷnāṭṭup pōr) was a civil war fought in Sri Lanka from 1983 to 2009. Beginning on 23 July 1983, it was an intermittent insurgency against the government by the Liberation Tigers of Tamil Eelam (LTTE, also known as the Tamil Tigers) led by Velupillai Prabhakaran. The LTTE fought to create an independent Tamil state called Tamil Eelam in the north-east of the island, due to the continuous discrimination and violent persecution against Sri Lankan Tamils by the Sinhalese-dominated Sri Lanka government.\n",
            "Violent persecution erupted in the form of the 1956, 1958, 1977, 1981 and 1983 anti-Tamil pogroms, as well as the 1981 burning of the Jaffna Public Library. These were carried out by the majority Sinhalese mobs often with state support, in the years following Sri Lanka's independence from the British Empire in 1948. Shortly after gaining independence, Sinhalese was recognized as the sole official language of the nation. After a 26-year military campaign, the Sri Lankan military defeated the Tamil Tigers in May 2009, bringing the civil war to an end.\n",
            "Up to 70,000 had been killed by 2007. Immediately following the end of war, on 20 May 2009, the UN estimated a total of 80,000–100,000 deaths. However, in 2011, referring to the final phase of the war in 2009, the Report of the Secretary-General's Panel of Experts on Accountability in Sri Lanka stated, \"A number of credible sources have estimated that there could have been as many as 40,000 civilian deaths.\" The Sri Lankan government has repeatedly refused an independent, international investigation to ascertain the full impact of the war, with some reports claiming that government forces were raping and torturing Tamils involved in collating deaths and disappearances.\n",
            "Since the end of the civil war, the Sri Lankan state has been subject to much global criticism for violating human rights as a result of committing war crimes through bombing civilian targets, usage of heavy weaponry, the abduction and massacres of Sri Lankan Tamils and sexual violence. The LTTE gained notoriety for carrying out numerous attacks against civilians of all ethnicities, particularly those of Sinhalese and Sri Lankan Muslim ethnicity, using child soldiers, assassinations of politicians and dissenters, and the use of suicide bombings against military, political and civilian targets.\n",
            "\n",
            "Page: Sri Lanka Freedom Party\n",
            "Summary: The Sri Lanka Freedom Party (SLFP; Sinhala: ශ්‍රී ලංකා නිදහස් පක්ෂය, romanized: Śrī Laṁkā Nidahas Pakṣaya; Tamil: இலங்கை சுதந்திரக் கட்சி, romanized: Ilaṅkai Cutantirak Kaṭci) is one of the main political parties of Sri Lanka. It was founded by S. W. R. D. Bandaranaike in 1951 and has been one of the two largest parties in the Sri Lankan political arena since. It first came to power in 1956 and has served as the predominant ruling party on a number of occasions. It is currently the third largest party in the Parliament of Sri Lanka after the Sri Lanka Podujana Peramuna and the Samagi Jana Balawegaya.\n",
            "The party is generally considered as having a democratic socialist or progressive economic agenda and is often associated with Sinhalese nationalist parties. The party follows a non-aligned foreign policy but has historically had close ties to socialist nations.\u001b[0m\n",
            "Thought:\u001b[32;1m\u001b[1;3mThought: I need to try a different Wikipedia search to get the leader of the country. \n",
            "Action: wikipedia\n",
            "Action Input: President of Sri Lanka\u001b[0m\n",
            "Observation: \u001b[38;5;200m\u001b[1;3mPage: President of Sri Lanka\n",
            "Summary: The president of Sri Lanka (Sinhala: ශ්‍රී ලංකා ජනාධිපති Śrī Laṃkā Janādhipathi; Tamil: இலங்கை சனாதிபதி Ilankai janātipati) is the head of state and head of government of the Democratic Socialist Republic of Sri Lanka. The president is the chief executive of the union government and the commander-in-chief of the Sri Lanka Armed Forces. The powers, functions and duties of prior presidential offices, in addition to their relation with the prime minister and Government of Sri Lanka, have over time differed with the various constitutional documents since the creation of the office. The president appoints the Prime Minister of Sri Lanka.\n",
            "The Current President is Ranil Wickremesinghe, who succeeded Gotabaya Rajapaksa on 21 July 2022.\n",
            "\n",
            "Page: List of presidents of Sri Lanka\n",
            "Summary: The president of Sri Lanka is the elected head of state and the chief executive of Sri Lanka (formerly Ceylon). The president is a dominant political figure in the country. The office was created in 1972, as more of a ceremonial position. It was empowered with executive powers by the 1978 Constitution introduced by J. R. Jayewardene.\n",
            "\n",
            "Page: Prime Minister of Sri Lanka\n",
            "Summary: The Prime Minister of the Democratic Socialist Republic of Sri Lanka is the head and most senior member of parliament in the cabinet of ministers. It is the second-most powerful position in Sri Lanka's executive branch behind the president, who is the constitutional chief executive. The Cabinet is collectively held accountable to parliament for their policies and actions. The powers and functions of the Prime Minister has changed several times since the creation of the office in 1947.\n",
            "Dinesh Gunawardena has been the prime minister since 22 July 2022, after his predecessor Ranil Wickremesinghe assumed the office of the President.\u001b[0m\n",
            "Thought:\u001b[32;1m\u001b[1;3mThought: I now know the final answer\n",
            "Final Answer: Ranil Wickremesinghe is the current president of Sri Lanka, succeeding Gotabaya Rajapaksa on July 21, 2022. \n",
            "\u001b[0m\n",
            "\n",
            "\u001b[1m> Finished chain.\u001b[0m\n"
          ]
        },
        {
          "output_type": "execute_result",
          "data": {
            "text/plain": [
              "'Ranil Wickremesinghe is the current president of Sri Lanka, succeeding Gotabaya Rajapaksa on July 21, 2022.'"
            ],
            "application/vnd.google.colaboratory.intrinsic+json": {
              "type": "string"
            }
          },
          "metadata": {},
          "execution_count": 58
        }
      ]
    },
    {
      "cell_type": "code",
      "source": [],
      "metadata": {
        "id": "xeKX2eTafKGb"
      },
      "execution_count": null,
      "outputs": []
    }
  ]
}