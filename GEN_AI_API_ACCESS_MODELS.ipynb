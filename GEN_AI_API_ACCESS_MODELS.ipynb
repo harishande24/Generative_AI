{
  "nbformat": 4,
  "nbformat_minor": 0,
  "metadata": {
    "colab": {
      "provenance": [],
      "gpuType": "T4"
    },
    "kernelspec": {
      "name": "python3",
      "display_name": "Python 3"
    },
    "language_info": {
      "name": "python"
    },
    "accelerator": "GPU"
  },
  "cells": [
    {
      "cell_type": "code",
      "execution_count": null,
      "metadata": {
        "id": "oMbtiYqup8IL"
      },
      "outputs": [],
      "source": [
        "from google.colab import userdata\n",
        "hf = userdata.get('hugging')"
      ]
    },
    {
      "cell_type": "code",
      "source": [
        "model_id=\"google/gemma-7b\""
      ],
      "metadata": {
        "id": "qdzEeDxgvKVY"
      },
      "execution_count": null,
      "outputs": []
    },
    {
      "cell_type": "code",
      "source": [
        "import requests"
      ],
      "metadata": {
        "id": "aFL5GmWIvMY3"
      },
      "execution_count": null,
      "outputs": []
    },
    {
      "cell_type": "code",
      "source": [
        "API_URL=\"https://api-inference.huggingface.co/models/HuggingFaceH4/zephyr-7b-beta\""
      ],
      "metadata": {
        "id": "DPBtgvpzvPDq"
      },
      "execution_count": null,
      "outputs": []
    },
    {
      "cell_type": "code",
      "source": [
        "headers = {\"Authorization\": f\"Bearer {hf}\"}"
      ],
      "metadata": {
        "id": "nCjcBGo4vRNP"
      },
      "execution_count": null,
      "outputs": []
    },
    {
      "cell_type": "code",
      "source": [
        "def query(payload):\n",
        "  response=requests.post(API_URL,headers=headers,json=payload)\n",
        "  print(response)\n",
        "  return response.json()"
      ],
      "metadata": {
        "id": "tROO5kyKvSxX"
      },
      "execution_count": null,
      "outputs": []
    },
    {
      "cell_type": "code",
      "source": [
        "question={\n",
        "\t\"inputs\": \"can you let me about the capital of india\"}"
      ],
      "metadata": {
        "id": "bmuWX0nGvUN8"
      },
      "execution_count": null,
      "outputs": []
    },
    {
      "cell_type": "code",
      "source": [
        "output = query(question)"
      ],
      "metadata": {
        "colab": {
          "base_uri": "https://localhost:8080/"
        },
        "id": "qvCBN0nTvVvM",
        "outputId": "92a7b227-4bc8-44d9-f2b9-a6c76c04fe4c"
      },
      "execution_count": null,
      "outputs": [
        {
          "output_type": "stream",
          "name": "stdout",
          "text": [
            "<Response [200]>\n"
          ]
        }
      ]
    },
    {
      "cell_type": "code",
      "source": [
        "output"
      ],
      "metadata": {
        "colab": {
          "base_uri": "https://localhost:8080/"
        },
        "id": "uhCdGkPxvXSD",
        "outputId": "493c1bb2-ae4d-4ac0-9f96-3d597b868bb3"
      },
      "execution_count": null,
      "outputs": [
        {
          "output_type": "execute_result",
          "data": {
            "text/plain": [
              "[{'generated_text': \"can you let me about the capital of india essay in hindi? Answer: Sure! Here's a brief essay on the capital of India in Hindi:\\n\\nराजधानी भारत का विशेषः विविध परिणामों के कारण एक बिना संवाद की आधार है ल\"}]"
            ]
          },
          "metadata": {},
          "execution_count": 20
        }
      ]
    },
    {
      "cell_type": "code",
      "source": [],
      "metadata": {
        "id": "59UMq6fnwbuG"
      },
      "execution_count": null,
      "outputs": []
    }
  ]
}